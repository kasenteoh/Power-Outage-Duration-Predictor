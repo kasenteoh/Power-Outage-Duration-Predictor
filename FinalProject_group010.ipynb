{
 "cells": [
  {
   "cell_type": "markdown",
   "metadata": {},
   "source": [
    "# COGS 108 - Predicting Power Outage Duration"
   ]
  },
  {
   "cell_type": "markdown",
   "metadata": {},
   "source": [
    "## Permissions"
   ]
  },
  {
   "cell_type": "markdown",
   "metadata": {},
   "source": [
    "Place an `X` in the appropriate bracket below to specify if you would like your group's project to be made available to the public. (Note that PIDs will be scraped from the public submission, but student names will be included.)\n",
    "\n",
    "* [X] YES - make available\n",
    "* [  ] NO - keep private"
   ]
  },
  {
   "cell_type": "markdown",
   "metadata": {},
   "source": [
    "# Overview"
   ]
  },
  {
   "cell_type": "markdown",
   "metadata": {},
   "source": [
    "This year specifically, there have been numerous power outages across the state of California due to weather conditions, sustainability, supply, etc. This led us to analyze what variable had the greatest influence on the power outage duration, and whether or not we would be able to use these variables to predict if a power outage would be severe. We hypothesized that the cause of severe weather would have the greatest impact on power outage duration and that we would be able to predict the level of severity using the Region, Climate, and Cause as inputs to the classifier. We had found out that severe weather was not the greatest significant predictor and that the cause of fuel supply emergency was a more significant predictor. Additionally, we had generated our classifier and found that it was, at best, only around 40% accuracy with test data (data that was withheld while fitting the model), therefore, with our current data set, we are skeptical whether or not we would be able to predict the level of severity using these three attributes as inputs."
   ]
  },
  {
   "cell_type": "markdown",
   "metadata": {},
   "source": [
    "# Names\n",
    "\n",
    "- Kaishun Lin\n",
    "- Yuheng Yang\n",
    "- Yicun Wu\n",
    "- Kasen Teoh"
   ]
  },
  {
   "cell_type": "markdown",
   "metadata": {},
   "source": [
    "# Research Question"
   ]
  },
  {
   "cell_type": "markdown",
   "metadata": {},
   "source": [
    "Taking each variable separately, how does the region (i.e northeast, southwest, etc.), climate (i.e normal, warm, cold), and cause (i.e weather, intentional attack, etc.) affect the duration of power outage across the United States and are we able to predict a range for the power outage duration based on these three variables with at least a 60% accuracy?"
   ]
  },
  {
   "cell_type": "markdown",
   "metadata": {},
   "source": [
    "## Background and Prior Work"
   ]
  },
  {
   "cell_type": "markdown",
   "metadata": {},
   "source": [
    "Electricity is extremely essential to our daily lives. We rely on electricity to allow us to see in the dark, to drive in the dark, it allows for better safety and control. However, the control of electricity is especially hard in the sense that it may not always be able to provide us with what we seek from it. For instance, in states with extreme weather such as Chicago with heavy snowstorms or Arizona with extreme heat, power outages are bound to happen. From the climate map provided by the government (1), we see that the southeastern USA and a bit of southern California and southern Arizona have the highest temperatures currently. Additionally, we can see from the map that the Northern parts of the United States have the lowest recorded temperatures. We believe that these areas will have power outages due to the severe weather. Furthermore, from the poweroutage.us (2) website, we are able to see which states currently have the most power outages. For instance, currently, Washington state has the most power outages. We believe this is because the Winter season is coming and Washington is known for its heavy rainfall. Consequently, we believe that this severe weather is responsible for a portion of the power outages originating from Washington.\n",
    "\n",
    "This question is important to us because our livelihoods rely on electricity. Without electricity, we have no internet to entertain ourselves, we have no service to communicate, and so much more. By analyzing power outages across the country we will have a better understanding of how the region, climate, and cause influences power outages. The region of the states is the geographical location of the state, whether in the Northeast, West, South, etc. The climate of the state means whether the overall climate of the state is normal or cold or warm. The cause we will be analyzing is whether it was due to severe weather or intentional attacks, or a lack of supplies, etc. Upon completion of this analysis, we would be able to see which factor has a bigger impact on power outage, whether region, climate, or cause, and if we would be able to use these three variables as inputs to predict the severity level (1: low - 5: high). When predicting the severity level of a power outage, we are using these three variables as inputs and generating an outage duration number as the output. We will then group the original outage duration and the predicted outage duration into five levels and compare these levels of severity against each other. \n",
    "\n",
    "A similar project that has been performed is the Power Outage Predictor (3), linked below. The group that had done the Power Outage Predictor and only incorporated weather conditions, such as wind speed humidity, temperature, and etc. Their project is only limited to the data of the Washington State. Our project differs in the sense that we are analyzing more attributes than just weather, such as region, climate, and the cause, and predicting the level of severity based on how long a power outage would last given the three inputs. Additionally, we are applying our model to the entire country, not just limited to one state. The group had implemented tree classifications, SVMs, and neural networks to predict the probability of a major power outage, with the work major being broken down into three different groups of normal with 0 - 2 outages, bad with 3 - 7 outages, and extreme with 8 or more outages in that area. The group's predicting accuracy did encounter a few problems, such as a small dataset and their predictors containing false positives and negatives.\n",
    "\n",
    "References:\n",
    "- 1) https://www.weather.gov/forecastmaps\n",
    "- 2) https://poweroutage.us/\n",
    "- 3) https://github.com/rkastilani/PowerOutagePredictor"
   ]
  },
  {
   "cell_type": "markdown",
   "metadata": {},
   "source": [
    "# Hypothesis\n"
   ]
  },
  {
   "cell_type": "markdown",
   "metadata": {},
   "source": [
    "Considering the region, climate, and cause as three separate attributes, we believe the cause, specifically severe weather will have the largest impact on power outage duration because it is the one that is the most unknown factor and electric companies are unable to fully 100% prepare for weather disasters. We also believe that we will be able to utilize Linear Regression to predict the severity level of each power outage observation, using the region, climate, and cause as inputs with at least a 60% accuracy."
   ]
  },
  {
   "cell_type": "markdown",
   "metadata": {},
   "source": [
    "# Dataset(s)"
   ]
  },
  {
   "cell_type": "markdown",
   "metadata": {},
   "source": [
    "- Dataset Name: Major Power Outage Risks in the US\n",
    "- Link to the dataset: https://engineering.purdue.edu/LASCI/research-data/outages/outagerisks\n",
    "- Number of observations: 1534\n",
    "\n",
    "In this dataset made public by Purdue University, it contains 1534 observations with 55 attributes. Each observation has a location, climate, region, duration, and etc (if the field is blank it is simply filled with nan). We made sure check the data for any personal identifiable information and removed any if came across. \n",
    "\n",
    "The observations are from power outages across the United States (Alsaka and Hawaii included) from January 2000 to July 2016. "
   ]
  },
  {
   "cell_type": "markdown",
   "metadata": {},
   "source": [
    "# Setup"
   ]
  },
  {
   "cell_type": "code",
   "execution_count": 1,
   "metadata": {},
   "outputs": [],
   "source": [
    "import pandas as pd\n",
    "import seaborn as sns\n",
    "import numpy as np\n",
    "import patsy\n",
    "import statsmodels.api as sm\n",
    "from statsmodels.formula.api import ols\n",
    "from sklearn.preprocessing import OneHotEncoder \n",
    "from sklearn.compose import ColumnTransformer \n",
    "from sklearn.preprocessing import LabelEncoder \n",
    "from sklearn.decomposition import PCA\n",
    "from sklearn.pipeline import Pipeline\n",
    "from sklearn.metrics import classification_report, precision_recall_fscore_support\n",
    "from sklearn.linear_model import LinearRegression\n",
    "sns.set(rc={'figure.figsize':(11.7,8.27)})"
   ]
  },
  {
   "cell_type": "markdown",
   "metadata": {},
   "source": [
    "# Data Cleaning"
   ]
  },
  {
   "cell_type": "markdown",
   "metadata": {},
   "source": [
    "As seen from the description of the data, the data set contains 55 attributes. Because all of these 55 attributes do not directly relate to our question, we can drop these columns because they are not adding any additionally information"
   ]
  },
  {
   "cell_type": "code",
   "execution_count": 2,
   "metadata": {},
   "outputs": [
    {
     "data": {
      "text/html": [
       "<div>\n",
       "<style scoped>\n",
       "    .dataframe tbody tr th:only-of-type {\n",
       "        vertical-align: middle;\n",
       "    }\n",
       "\n",
       "    .dataframe tbody tr th {\n",
       "        vertical-align: top;\n",
       "    }\n",
       "\n",
       "    .dataframe thead th {\n",
       "        text-align: right;\n",
       "    }\n",
       "</style>\n",
       "<table border=\"1\" class=\"dataframe\">\n",
       "  <thead>\n",
       "    <tr style=\"text-align: right;\">\n",
       "      <th></th>\n",
       "      <th>YEAR</th>\n",
       "      <th>MONTH</th>\n",
       "      <th>U.S._STATE</th>\n",
       "      <th>POSTAL.CODE</th>\n",
       "      <th>NERC.REGION</th>\n",
       "      <th>CLIMATE.REGION</th>\n",
       "      <th>ANOMALY.LEVEL</th>\n",
       "      <th>CLIMATE.CATEGORY</th>\n",
       "      <th>OUTAGE.START.DATE</th>\n",
       "      <th>OUTAGE.START.TIME</th>\n",
       "      <th>...</th>\n",
       "      <th>POPPCT_URBAN</th>\n",
       "      <th>POPPCT_UC</th>\n",
       "      <th>POPDEN_URBAN</th>\n",
       "      <th>POPDEN_UC</th>\n",
       "      <th>POPDEN_RURAL</th>\n",
       "      <th>AREAPCT_URBAN</th>\n",
       "      <th>AREAPCT_UC</th>\n",
       "      <th>PCT_LAND</th>\n",
       "      <th>PCT_WATER_TOT</th>\n",
       "      <th>PCT_WATER_INLAND</th>\n",
       "    </tr>\n",
       "  </thead>\n",
       "  <tbody>\n",
       "    <tr>\n",
       "      <th>0</th>\n",
       "      <td>2011</td>\n",
       "      <td>7</td>\n",
       "      <td>Minnesota</td>\n",
       "      <td>MN</td>\n",
       "      <td>MRO</td>\n",
       "      <td>East North Central</td>\n",
       "      <td>-0.3</td>\n",
       "      <td>normal</td>\n",
       "      <td>2011-07-01 00:00:00</td>\n",
       "      <td>17:00:00</td>\n",
       "      <td>...</td>\n",
       "      <td>73.27</td>\n",
       "      <td>15.28</td>\n",
       "      <td>2279</td>\n",
       "      <td>1700.5</td>\n",
       "      <td>18.2</td>\n",
       "      <td>2.14</td>\n",
       "      <td>0.6</td>\n",
       "      <td>91.5927</td>\n",
       "      <td>8.40733</td>\n",
       "      <td>5.47874</td>\n",
       "    </tr>\n",
       "    <tr>\n",
       "      <th>1</th>\n",
       "      <td>2014</td>\n",
       "      <td>5</td>\n",
       "      <td>Minnesota</td>\n",
       "      <td>MN</td>\n",
       "      <td>MRO</td>\n",
       "      <td>East North Central</td>\n",
       "      <td>-0.1</td>\n",
       "      <td>normal</td>\n",
       "      <td>2014-05-11 00:00:00</td>\n",
       "      <td>18:38:00</td>\n",
       "      <td>...</td>\n",
       "      <td>73.27</td>\n",
       "      <td>15.28</td>\n",
       "      <td>2279</td>\n",
       "      <td>1700.5</td>\n",
       "      <td>18.2</td>\n",
       "      <td>2.14</td>\n",
       "      <td>0.6</td>\n",
       "      <td>91.5927</td>\n",
       "      <td>8.40733</td>\n",
       "      <td>5.47874</td>\n",
       "    </tr>\n",
       "    <tr>\n",
       "      <th>2</th>\n",
       "      <td>2010</td>\n",
       "      <td>10</td>\n",
       "      <td>Minnesota</td>\n",
       "      <td>MN</td>\n",
       "      <td>MRO</td>\n",
       "      <td>East North Central</td>\n",
       "      <td>-1.5</td>\n",
       "      <td>cold</td>\n",
       "      <td>2010-10-26 00:00:00</td>\n",
       "      <td>20:00:00</td>\n",
       "      <td>...</td>\n",
       "      <td>73.27</td>\n",
       "      <td>15.28</td>\n",
       "      <td>2279</td>\n",
       "      <td>1700.5</td>\n",
       "      <td>18.2</td>\n",
       "      <td>2.14</td>\n",
       "      <td>0.6</td>\n",
       "      <td>91.5927</td>\n",
       "      <td>8.40733</td>\n",
       "      <td>5.47874</td>\n",
       "    </tr>\n",
       "    <tr>\n",
       "      <th>3</th>\n",
       "      <td>2012</td>\n",
       "      <td>6</td>\n",
       "      <td>Minnesota</td>\n",
       "      <td>MN</td>\n",
       "      <td>MRO</td>\n",
       "      <td>East North Central</td>\n",
       "      <td>-0.1</td>\n",
       "      <td>normal</td>\n",
       "      <td>2012-06-19 00:00:00</td>\n",
       "      <td>04:30:00</td>\n",
       "      <td>...</td>\n",
       "      <td>73.27</td>\n",
       "      <td>15.28</td>\n",
       "      <td>2279</td>\n",
       "      <td>1700.5</td>\n",
       "      <td>18.2</td>\n",
       "      <td>2.14</td>\n",
       "      <td>0.6</td>\n",
       "      <td>91.5927</td>\n",
       "      <td>8.40733</td>\n",
       "      <td>5.47874</td>\n",
       "    </tr>\n",
       "    <tr>\n",
       "      <th>4</th>\n",
       "      <td>2015</td>\n",
       "      <td>7</td>\n",
       "      <td>Minnesota</td>\n",
       "      <td>MN</td>\n",
       "      <td>MRO</td>\n",
       "      <td>East North Central</td>\n",
       "      <td>1.2</td>\n",
       "      <td>warm</td>\n",
       "      <td>2015-07-18 00:00:00</td>\n",
       "      <td>02:00:00</td>\n",
       "      <td>...</td>\n",
       "      <td>73.27</td>\n",
       "      <td>15.28</td>\n",
       "      <td>2279</td>\n",
       "      <td>1700.5</td>\n",
       "      <td>18.2</td>\n",
       "      <td>2.14</td>\n",
       "      <td>0.6</td>\n",
       "      <td>91.5927</td>\n",
       "      <td>8.40733</td>\n",
       "      <td>5.47874</td>\n",
       "    </tr>\n",
       "  </tbody>\n",
       "</table>\n",
       "<p>5 rows × 55 columns</p>\n",
       "</div>"
      ],
      "text/plain": [
       "0  YEAR MONTH U.S._STATE POSTAL.CODE NERC.REGION      CLIMATE.REGION  \\\n",
       "0  2011     7  Minnesota          MN         MRO  East North Central   \n",
       "1  2014     5  Minnesota          MN         MRO  East North Central   \n",
       "2  2010    10  Minnesota          MN         MRO  East North Central   \n",
       "3  2012     6  Minnesota          MN         MRO  East North Central   \n",
       "4  2015     7  Minnesota          MN         MRO  East North Central   \n",
       "\n",
       "0 ANOMALY.LEVEL CLIMATE.CATEGORY    OUTAGE.START.DATE OUTAGE.START.TIME  ...  \\\n",
       "0          -0.3           normal  2011-07-01 00:00:00          17:00:00  ...   \n",
       "1          -0.1           normal  2014-05-11 00:00:00          18:38:00  ...   \n",
       "2          -1.5             cold  2010-10-26 00:00:00          20:00:00  ...   \n",
       "3          -0.1           normal  2012-06-19 00:00:00          04:30:00  ...   \n",
       "4           1.2             warm  2015-07-18 00:00:00          02:00:00  ...   \n",
       "\n",
       "0 POPPCT_URBAN POPPCT_UC POPDEN_URBAN POPDEN_UC POPDEN_RURAL AREAPCT_URBAN  \\\n",
       "0        73.27     15.28         2279    1700.5         18.2          2.14   \n",
       "1        73.27     15.28         2279    1700.5         18.2          2.14   \n",
       "2        73.27     15.28         2279    1700.5         18.2          2.14   \n",
       "3        73.27     15.28         2279    1700.5         18.2          2.14   \n",
       "4        73.27     15.28         2279    1700.5         18.2          2.14   \n",
       "\n",
       "0 AREAPCT_UC PCT_LAND PCT_WATER_TOT PCT_WATER_INLAND  \n",
       "0        0.6  91.5927       8.40733          5.47874  \n",
       "1        0.6  91.5927       8.40733          5.47874  \n",
       "2        0.6  91.5927       8.40733          5.47874  \n",
       "3        0.6  91.5927       8.40733          5.47874  \n",
       "4        0.6  91.5927       8.40733          5.47874  \n",
       "\n",
       "[5 rows x 55 columns]"
      ]
     },
     "execution_count": 2,
     "metadata": {},
     "output_type": "execute_result"
    }
   ],
   "source": [
    "df = pd.read_excel('http://engineering.purdue.edu/LASCI/research-data/outages/outage') #Reading in the dataset\n",
    "df = df.iloc[4:].reset_index(drop = True) #Removing the first 4 lines because those were just information about the dataset\n",
    "df.columns = df.iloc[0,:] #Setting the header\n",
    "df = df.iloc[2:,2:].reset_index(drop = True)\n",
    "df.head()"
   ]
  },
  {
   "cell_type": "code",
   "execution_count": 3,
   "metadata": {},
   "outputs": [],
   "source": [
    "df = df[['POSTAL.CODE', 'CLIMATE.REGION', 'CLIMATE.CATEGORY', 'CAUSE.CATEGORY', 'CAUSE.CATEGORY.DETAIL', 'OUTAGE.DURATION']]\n",
    "df.columns = ['State', 'Region', 'Climate', 'Cause', 'Cause_Detail', 'Outage_Duration_Mins']\n",
    "df = df.astype({'Outage_Duration_Mins': 'float64'})"
   ]
  },
  {
   "cell_type": "code",
   "execution_count": 4,
   "metadata": {},
   "outputs": [
    {
     "data": {
      "text/html": [
       "<div>\n",
       "<style scoped>\n",
       "    .dataframe tbody tr th:only-of-type {\n",
       "        vertical-align: middle;\n",
       "    }\n",
       "\n",
       "    .dataframe tbody tr th {\n",
       "        vertical-align: top;\n",
       "    }\n",
       "\n",
       "    .dataframe thead th {\n",
       "        text-align: right;\n",
       "    }\n",
       "</style>\n",
       "<table border=\"1\" class=\"dataframe\">\n",
       "  <thead>\n",
       "    <tr style=\"text-align: right;\">\n",
       "      <th></th>\n",
       "      <th>State</th>\n",
       "      <th>Region</th>\n",
       "      <th>Climate</th>\n",
       "      <th>Cause</th>\n",
       "      <th>Cause_Detail</th>\n",
       "      <th>Outage_Duration_Mins</th>\n",
       "    </tr>\n",
       "  </thead>\n",
       "  <tbody>\n",
       "    <tr>\n",
       "      <th>0</th>\n",
       "      <td>MN</td>\n",
       "      <td>East North Central</td>\n",
       "      <td>normal</td>\n",
       "      <td>severe weather</td>\n",
       "      <td>NaN</td>\n",
       "      <td>3060.0</td>\n",
       "    </tr>\n",
       "    <tr>\n",
       "      <th>1</th>\n",
       "      <td>MN</td>\n",
       "      <td>East North Central</td>\n",
       "      <td>normal</td>\n",
       "      <td>intentional attack</td>\n",
       "      <td>vandalism</td>\n",
       "      <td>1.0</td>\n",
       "    </tr>\n",
       "    <tr>\n",
       "      <th>2</th>\n",
       "      <td>MN</td>\n",
       "      <td>East North Central</td>\n",
       "      <td>cold</td>\n",
       "      <td>severe weather</td>\n",
       "      <td>heavy wind</td>\n",
       "      <td>3000.0</td>\n",
       "    </tr>\n",
       "    <tr>\n",
       "      <th>3</th>\n",
       "      <td>MN</td>\n",
       "      <td>East North Central</td>\n",
       "      <td>normal</td>\n",
       "      <td>severe weather</td>\n",
       "      <td>thunderstorm</td>\n",
       "      <td>2550.0</td>\n",
       "    </tr>\n",
       "    <tr>\n",
       "      <th>4</th>\n",
       "      <td>MN</td>\n",
       "      <td>East North Central</td>\n",
       "      <td>warm</td>\n",
       "      <td>severe weather</td>\n",
       "      <td>NaN</td>\n",
       "      <td>1740.0</td>\n",
       "    </tr>\n",
       "    <tr>\n",
       "      <th>...</th>\n",
       "      <td>...</td>\n",
       "      <td>...</td>\n",
       "      <td>...</td>\n",
       "      <td>...</td>\n",
       "      <td>...</td>\n",
       "      <td>...</td>\n",
       "    </tr>\n",
       "    <tr>\n",
       "      <th>1471</th>\n",
       "      <td>ID</td>\n",
       "      <td>Northwest</td>\n",
       "      <td>warm</td>\n",
       "      <td>intentional attack</td>\n",
       "      <td>sabotage</td>\n",
       "      <td>0.0</td>\n",
       "    </tr>\n",
       "    <tr>\n",
       "      <th>1472</th>\n",
       "      <td>ID</td>\n",
       "      <td>Northwest</td>\n",
       "      <td>normal</td>\n",
       "      <td>system operability disruption</td>\n",
       "      <td>uncontrolled loss</td>\n",
       "      <td>220.0</td>\n",
       "    </tr>\n",
       "    <tr>\n",
       "      <th>1473</th>\n",
       "      <td>ND</td>\n",
       "      <td>West North Central</td>\n",
       "      <td>cold</td>\n",
       "      <td>public appeal</td>\n",
       "      <td>NaN</td>\n",
       "      <td>720.0</td>\n",
       "    </tr>\n",
       "    <tr>\n",
       "      <th>1474</th>\n",
       "      <td>SD</td>\n",
       "      <td>West North Central</td>\n",
       "      <td>warm</td>\n",
       "      <td>islanding</td>\n",
       "      <td>NaN</td>\n",
       "      <td>59.0</td>\n",
       "    </tr>\n",
       "    <tr>\n",
       "      <th>1475</th>\n",
       "      <td>SD</td>\n",
       "      <td>West North Central</td>\n",
       "      <td>warm</td>\n",
       "      <td>islanding</td>\n",
       "      <td>NaN</td>\n",
       "      <td>181.0</td>\n",
       "    </tr>\n",
       "  </tbody>\n",
       "</table>\n",
       "<p>1476 rows × 6 columns</p>\n",
       "</div>"
      ],
      "text/plain": [
       "     State              Region Climate                          Cause  \\\n",
       "0       MN  East North Central  normal                 severe weather   \n",
       "1       MN  East North Central  normal             intentional attack   \n",
       "2       MN  East North Central    cold                 severe weather   \n",
       "3       MN  East North Central  normal                 severe weather   \n",
       "4       MN  East North Central    warm                 severe weather   \n",
       "...    ...                 ...     ...                            ...   \n",
       "1471    ID           Northwest    warm             intentional attack   \n",
       "1472    ID           Northwest  normal  system operability disruption   \n",
       "1473    ND  West North Central    cold                  public appeal   \n",
       "1474    SD  West North Central    warm                      islanding   \n",
       "1475    SD  West North Central    warm                      islanding   \n",
       "\n",
       "           Cause_Detail  Outage_Duration_Mins  \n",
       "0                   NaN                3060.0  \n",
       "1             vandalism                   1.0  \n",
       "2            heavy wind                3000.0  \n",
       "3          thunderstorm                2550.0  \n",
       "4                   NaN                1740.0  \n",
       "...                 ...                   ...  \n",
       "1471           sabotage                   0.0  \n",
       "1472  uncontrolled loss                 220.0  \n",
       "1473                NaN                 720.0  \n",
       "1474                NaN                  59.0  \n",
       "1475                NaN                 181.0  \n",
       "\n",
       "[1476 rows x 6 columns]"
      ]
     },
     "execution_count": 4,
     "metadata": {},
     "output_type": "execute_result"
    }
   ],
   "source": [
    "df = df.drop(df[df['Cause'].isnull()].index)\n",
    "df = df.drop(df[df['Outage_Duration_Mins'].isnull()].index).reset_index(drop = True)\n",
    "df"
   ]
  },
  {
   "cell_type": "markdown",
   "metadata": {},
   "source": [
    "In the cell above, we are dropping the observations with an unknown cause and duration because we want to use cause as one of our predictor variables to predict duration. We are unable to infer or fill in the missing values for both of these variables, therefore, we can only drop them as they do not add any information to our analysis."
   ]
  },
  {
   "cell_type": "code",
   "execution_count": 5,
   "metadata": {},
   "outputs": [
    {
     "data": {
      "text/plain": [
       "severe weather                   744\n",
       "intentional attack               403\n",
       "system operability disruption    123\n",
       "public appeal                     69\n",
       "equipment failure                 55\n",
       "islanding                         44\n",
       "fuel supply emergency             38\n",
       "Name: Cause, dtype: int64"
      ]
     },
     "execution_count": 5,
     "metadata": {},
     "output_type": "execute_result"
    }
   ],
   "source": [
    "df['Cause'].value_counts()"
   ]
  },
  {
   "cell_type": "markdown",
   "metadata": {},
   "source": [
    "We see in the cell above that the 'Cause' column does not have any repetitive categories, therefore, we do not need to group categories together. "
   ]
  },
  {
   "cell_type": "code",
   "execution_count": 6,
   "metadata": {},
   "outputs": [
    {
     "name": "stdout",
     "output_type": "stream",
     "text": [
      "There are 51 different values\n"
     ]
    },
    {
     "data": {
      "text/plain": [
       "vandalism                    325\n",
       "thunderstorm                 176\n",
       "winter storm                 100\n",
       "hurricanes                    73\n",
       "heavy wind                    60\n",
       "storm                         41\n",
       "sabotage                      29\n",
       "wildfire                      23\n",
       "winter                        23\n",
       "transmission interruption     19\n",
       "generator trip                16\n",
       "uncontrolled loss             14\n",
       "snow/ice                      13\n",
       "wind/rain                     12\n",
       "heatwave                      10\n",
       "tornadoes                      8\n",
       " Natural Gas                   7\n",
       " Coal                          7\n",
       "transmission trip              6\n",
       "wind storm                     6\n",
       "Coal                           6\n",
       "flooding                       4\n",
       "breaker trip                   4\n",
       "earthquake                     4\n",
       "transmission                   3\n",
       "hailstorm                      3\n",
       "lightning                      3\n",
       "suspicious activity            3\n",
       "Hydro                          3\n",
       "distribution interruption      2\n",
       "wind                           2\n",
       "switching                      2\n",
       "transformer outage             2\n",
       "substation                     2\n",
       "snow/ice storm                 1\n",
       "relaying malfunction           1\n",
       "voltage reduction              1\n",
       "thunderstorm; islanding        1\n",
       "majorsystem interruption       1\n",
       "public appeal                  1\n",
       "fog                            1\n",
       "line fault                     1\n",
       "HVSubstation interruption      1\n",
       "shed load                      1\n",
       "computer hardware              1\n",
       "100 MW loadshed                1\n",
       "Petroleum                      1\n",
       "feeder shutdown                1\n",
       " Hydro                         1\n",
       "cables                         1\n",
       "plant trip                     1\n",
       "Name: Cause_Detail, dtype: int64"
      ]
     },
     "execution_count": 6,
     "metadata": {},
     "output_type": "execute_result"
    }
   ],
   "source": [
    "print('There are', df['Cause_Detail'].value_counts().count(), 'different values')\n",
    "df['Cause_Detail'].value_counts()"
   ]
  },
  {
   "cell_type": "markdown",
   "metadata": {},
   "source": [
    "In the cell above, we see that there are 51 different values in the 'Cause_Detail' column. Additionally, we see repetitive categories that describe the same cause of the outage. For isntance, there is a category titled 'snow/ice storm' and 'snow/ice', there is also a 'wind', 'wind storm', and 'wind/rain'. Because with many categories, the categories become too specific and detailed that only fit a few observation's situations, which lead to many categories having very few observations, as seen above. To lessen the categories, we group some of the 'Cause_Detail' categories. "
   ]
  },
  {
   "cell_type": "code",
   "execution_count": 7,
   "metadata": {},
   "outputs": [
    {
     "data": {
      "text/plain": [
       "attack                   357\n",
       "thunder/lightning        180\n",
       "snow/ice                 140\n",
       "wind/rain                122\n",
       "hurricanes                73\n",
       "soft/hard ware            59\n",
       "wildfire                  23\n",
       "uncontrolled loss         14\n",
       "coal                      13\n",
       "heatwave                  10\n",
       "tornadoes                  8\n",
       "natural gas                7\n",
       "loadshed/transmission      6\n",
       "earthquake                 4\n",
       "hydro                      4\n",
       "flooding                   4\n",
       "Name: Cause_Detail, dtype: int64"
      ]
     },
     "execution_count": 7,
     "metadata": {},
     "output_type": "execute_result"
    }
   ],
   "source": [
    "def grouping_cause_detail(category):\n",
    "    \n",
    "    groups = {'thunderstorm': 'thunder/lightning', 'lightning': 'thunder/lightning', \n",
    "              'winter': 'snow/ice', 'snow': 'snow/ice', 'hail': 'snow/ice', 'wind': 'wind/rain', \n",
    "              'storm': 'wind/rain', 'sabotage': 'attack', 'suspicious activity': 'attack', 'fog': 'wind/rain', \n",
    "              'vandalism': 'attack', 'trip': 'soft/hard ware', \n",
    "              'interruption': 'soft/hard ware', 'transformer outage': 'soft/hard ware', \n",
    "              'distribution outage': 'soft/hard ware', 'hardware': 'soft/hard ware', \n",
    "              'malfunction': 'soft/hard ware', 'fault': 'soft/hard ware', 'load': 'loadshed/transmission', \n",
    "              'voltage': 'loadshed/transmission', 'transmission': 'loadshed/transmission', \n",
    "              'shutdown': 'soft/hard ware', 'cables': 'soft/hard ware', 'switching': 'soft/hard ware'}\n",
    "    \n",
    "    if not pd.isnull(category):\n",
    "        new = category.lower().strip()\n",
    "        for i in groups.keys():\n",
    "            if i in new:\n",
    "                new = groups[i]\n",
    "                break\n",
    "    else:\n",
    "        new = category\n",
    "\n",
    "    return new\n",
    "\n",
    "df['Cause_Detail'] = df['Cause_Detail'].apply(grouping_cause_detail)\n",
    "df = df.drop(df[df['Cause_Detail'].isin(['petroleum', 'public appeal', 'substation'])].index)\n",
    "df['Cause_Detail'].value_counts()"
   ]
  },
  {
   "cell_type": "markdown",
   "metadata": {},
   "source": [
    "Looking at the cell above, we have grouped many of the 'Cause_Detail' values together, reducing the very specific categories with very few observations. We had also removed the three observations with the value of 'Petroleum', 'Public appeal, and 'Substation'. We had chosed to remove these because these values are unable to be grouped with other values and because each value only had one observation, therefore, they do not add any additionaly information to our study. "
   ]
  },
  {
   "cell_type": "code",
   "execution_count": 8,
   "metadata": {},
   "outputs": [
    {
     "name": "stdout",
     "output_type": "stream",
     "text": [
      "There are 9 different regions\n"
     ]
    },
    {
     "data": {
      "text/plain": [
       "array(['East North Central', 'Central', 'South', 'Southeast', 'Northwest',\n",
       "       'Southwest', 'Northeast', 'West North Central', 'West', nan],\n",
       "      dtype=object)"
      ]
     },
     "execution_count": 8,
     "metadata": {},
     "output_type": "execute_result"
    }
   ],
   "source": [
    "print(\"There are\", df['Region'].value_counts().count(), 'different regions')\n",
    "df['Region'].unique()"
   ]
  },
  {
   "cell_type": "code",
   "execution_count": 9,
   "metadata": {},
   "outputs": [
    {
     "data": {
      "text/html": [
       "<div>\n",
       "<style scoped>\n",
       "    .dataframe tbody tr th:only-of-type {\n",
       "        vertical-align: middle;\n",
       "    }\n",
       "\n",
       "    .dataframe tbody tr th {\n",
       "        vertical-align: top;\n",
       "    }\n",
       "\n",
       "    .dataframe thead th {\n",
       "        text-align: right;\n",
       "    }\n",
       "</style>\n",
       "<table border=\"1\" class=\"dataframe\">\n",
       "  <thead>\n",
       "    <tr style=\"text-align: right;\">\n",
       "      <th></th>\n",
       "      <th>State</th>\n",
       "      <th>Region</th>\n",
       "      <th>Climate</th>\n",
       "      <th>Cause</th>\n",
       "      <th>Cause_Detail</th>\n",
       "      <th>Outage_Duration_Mins</th>\n",
       "    </tr>\n",
       "  </thead>\n",
       "  <tbody>\n",
       "    <tr>\n",
       "      <th>1460</th>\n",
       "      <td>HI</td>\n",
       "      <td>NaN</td>\n",
       "      <td>cold</td>\n",
       "      <td>severe weather</td>\n",
       "      <td>thunder/lightning</td>\n",
       "      <td>1367.0</td>\n",
       "    </tr>\n",
       "    <tr>\n",
       "      <th>1461</th>\n",
       "      <td>HI</td>\n",
       "      <td>NaN</td>\n",
       "      <td>normal</td>\n",
       "      <td>severe weather</td>\n",
       "      <td>NaN</td>\n",
       "      <td>174.0</td>\n",
       "    </tr>\n",
       "    <tr>\n",
       "      <th>1462</th>\n",
       "      <td>HI</td>\n",
       "      <td>NaN</td>\n",
       "      <td>warm</td>\n",
       "      <td>severe weather</td>\n",
       "      <td>earthquake</td>\n",
       "      <td>543.0</td>\n",
       "    </tr>\n",
       "    <tr>\n",
       "      <th>1463</th>\n",
       "      <td>HI</td>\n",
       "      <td>NaN</td>\n",
       "      <td>normal</td>\n",
       "      <td>system operability disruption</td>\n",
       "      <td>NaN</td>\n",
       "      <td>237.0</td>\n",
       "    </tr>\n",
       "    <tr>\n",
       "      <th>1464</th>\n",
       "      <td>HI</td>\n",
       "      <td>NaN</td>\n",
       "      <td>warm</td>\n",
       "      <td>severe weather</td>\n",
       "      <td>earthquake</td>\n",
       "      <td>1906.0</td>\n",
       "    </tr>\n",
       "  </tbody>\n",
       "</table>\n",
       "</div>"
      ],
      "text/plain": [
       "     State Region Climate                          Cause       Cause_Detail  \\\n",
       "1460    HI    NaN    cold                 severe weather  thunder/lightning   \n",
       "1461    HI    NaN  normal                 severe weather                NaN   \n",
       "1462    HI    NaN    warm                 severe weather         earthquake   \n",
       "1463    HI    NaN  normal  system operability disruption                NaN   \n",
       "1464    HI    NaN    warm                 severe weather         earthquake   \n",
       "\n",
       "      Outage_Duration_Mins  \n",
       "1460                1367.0  \n",
       "1461                 174.0  \n",
       "1462                 543.0  \n",
       "1463                 237.0  \n",
       "1464                1906.0  "
      ]
     },
     "execution_count": 9,
     "metadata": {},
     "output_type": "execute_result"
    }
   ],
   "source": [
    "df[df['Region'].isnull()]"
   ]
  },
  {
   "cell_type": "markdown",
   "metadata": {},
   "source": [
    "We see that there are 9 categories of regions. As stated above, too specific labeling is bad because there would only be a few observations with that category. We decided that anything with the word central would be grouped into central. For instance, instead of having east north central, and west north central and central, we decided that central should not be split up into different categories, so we decided to clean and replace these regions with just central. \n",
    "\n",
    "We also see above that there are four observations with an unknown 'Region' value. Because all of these observations are in Hawaii and rather than creating a new region just for Hawaii, we decided to categorize Hawaii and a 'west' region because it is in the Western United States. "
   ]
  },
  {
   "cell_type": "code",
   "execution_count": 10,
   "metadata": {},
   "outputs": [
    {
     "data": {
      "text/html": [
       "<div>\n",
       "<style scoped>\n",
       "    .dataframe tbody tr th:only-of-type {\n",
       "        vertical-align: middle;\n",
       "    }\n",
       "\n",
       "    .dataframe tbody tr th {\n",
       "        vertical-align: top;\n",
       "    }\n",
       "\n",
       "    .dataframe thead th {\n",
       "        text-align: right;\n",
       "    }\n",
       "</style>\n",
       "<table border=\"1\" class=\"dataframe\">\n",
       "  <thead>\n",
       "    <tr style=\"text-align: right;\">\n",
       "      <th></th>\n",
       "      <th>State</th>\n",
       "      <th>Region</th>\n",
       "      <th>Climate</th>\n",
       "      <th>Cause</th>\n",
       "      <th>Cause_Detail</th>\n",
       "      <th>Outage_Duration_Mins</th>\n",
       "    </tr>\n",
       "  </thead>\n",
       "  <tbody>\n",
       "    <tr>\n",
       "      <th>0</th>\n",
       "      <td>MN</td>\n",
       "      <td>Central</td>\n",
       "      <td>normal</td>\n",
       "      <td>severe weather</td>\n",
       "      <td>NaN</td>\n",
       "      <td>3060.0</td>\n",
       "    </tr>\n",
       "    <tr>\n",
       "      <th>1</th>\n",
       "      <td>MN</td>\n",
       "      <td>Central</td>\n",
       "      <td>normal</td>\n",
       "      <td>intentional attack</td>\n",
       "      <td>attack</td>\n",
       "      <td>1.0</td>\n",
       "    </tr>\n",
       "    <tr>\n",
       "      <th>2</th>\n",
       "      <td>MN</td>\n",
       "      <td>Central</td>\n",
       "      <td>cold</td>\n",
       "      <td>severe weather</td>\n",
       "      <td>wind/rain</td>\n",
       "      <td>3000.0</td>\n",
       "    </tr>\n",
       "    <tr>\n",
       "      <th>3</th>\n",
       "      <td>MN</td>\n",
       "      <td>Central</td>\n",
       "      <td>normal</td>\n",
       "      <td>severe weather</td>\n",
       "      <td>thunder/lightning</td>\n",
       "      <td>2550.0</td>\n",
       "    </tr>\n",
       "    <tr>\n",
       "      <th>4</th>\n",
       "      <td>MN</td>\n",
       "      <td>Central</td>\n",
       "      <td>warm</td>\n",
       "      <td>severe weather</td>\n",
       "      <td>NaN</td>\n",
       "      <td>1740.0</td>\n",
       "    </tr>\n",
       "    <tr>\n",
       "      <th>...</th>\n",
       "      <td>...</td>\n",
       "      <td>...</td>\n",
       "      <td>...</td>\n",
       "      <td>...</td>\n",
       "      <td>...</td>\n",
       "      <td>...</td>\n",
       "    </tr>\n",
       "    <tr>\n",
       "      <th>1471</th>\n",
       "      <td>ID</td>\n",
       "      <td>Northwest</td>\n",
       "      <td>warm</td>\n",
       "      <td>intentional attack</td>\n",
       "      <td>attack</td>\n",
       "      <td>0.0</td>\n",
       "    </tr>\n",
       "    <tr>\n",
       "      <th>1472</th>\n",
       "      <td>ID</td>\n",
       "      <td>Northwest</td>\n",
       "      <td>normal</td>\n",
       "      <td>system operability disruption</td>\n",
       "      <td>uncontrolled loss</td>\n",
       "      <td>220.0</td>\n",
       "    </tr>\n",
       "    <tr>\n",
       "      <th>1473</th>\n",
       "      <td>ND</td>\n",
       "      <td>Central</td>\n",
       "      <td>cold</td>\n",
       "      <td>public appeal</td>\n",
       "      <td>NaN</td>\n",
       "      <td>720.0</td>\n",
       "    </tr>\n",
       "    <tr>\n",
       "      <th>1474</th>\n",
       "      <td>SD</td>\n",
       "      <td>Central</td>\n",
       "      <td>warm</td>\n",
       "      <td>islanding</td>\n",
       "      <td>NaN</td>\n",
       "      <td>59.0</td>\n",
       "    </tr>\n",
       "    <tr>\n",
       "      <th>1475</th>\n",
       "      <td>SD</td>\n",
       "      <td>Central</td>\n",
       "      <td>warm</td>\n",
       "      <td>islanding</td>\n",
       "      <td>NaN</td>\n",
       "      <td>181.0</td>\n",
       "    </tr>\n",
       "  </tbody>\n",
       "</table>\n",
       "<p>1472 rows × 6 columns</p>\n",
       "</div>"
      ],
      "text/plain": [
       "     State     Region Climate                          Cause  \\\n",
       "0       MN    Central  normal                 severe weather   \n",
       "1       MN    Central  normal             intentional attack   \n",
       "2       MN    Central    cold                 severe weather   \n",
       "3       MN    Central  normal                 severe weather   \n",
       "4       MN    Central    warm                 severe weather   \n",
       "...    ...        ...     ...                            ...   \n",
       "1471    ID  Northwest    warm             intentional attack   \n",
       "1472    ID  Northwest  normal  system operability disruption   \n",
       "1473    ND    Central    cold                  public appeal   \n",
       "1474    SD    Central    warm                      islanding   \n",
       "1475    SD    Central    warm                      islanding   \n",
       "\n",
       "           Cause_Detail  Outage_Duration_Mins  \n",
       "0                   NaN                3060.0  \n",
       "1                attack                   1.0  \n",
       "2             wind/rain                3000.0  \n",
       "3     thunder/lightning                2550.0  \n",
       "4                   NaN                1740.0  \n",
       "...                 ...                   ...  \n",
       "1471             attack                   0.0  \n",
       "1472  uncontrolled loss                 220.0  \n",
       "1473                NaN                 720.0  \n",
       "1474                NaN                  59.0  \n",
       "1475                NaN                 181.0  \n",
       "\n",
       "[1472 rows x 6 columns]"
      ]
     },
     "execution_count": 10,
     "metadata": {},
     "output_type": "execute_result"
    }
   ],
   "source": [
    "def grouping_region(region):\n",
    "    group = {'entral': 'Central'}\n",
    "    \n",
    "    if not pd.isnull(region):\n",
    "        new = region.strip()\n",
    "        for i in group.keys():\n",
    "            if i in region:\n",
    "                new = group[i]\n",
    "    else:\n",
    "        new = 'West'\n",
    "        \n",
    "    return new\n",
    "\n",
    "df['Region'] = df['Region'].apply(grouping_region)\n",
    "df"
   ]
  },
  {
   "cell_type": "markdown",
   "metadata": {},
   "source": [
    "# EDA"
   ]
  },
  {
   "cell_type": "markdown",
   "metadata": {},
   "source": [
    "After cleaning the data, we have a total of 1472 observations and 6 variables, 'Region', 'Climate', 'Cause', 'Cause_Detail', 'Outage_Duration_Mins'. "
   ]
  },
  {
   "cell_type": "code",
   "execution_count": 11,
   "metadata": {},
   "outputs": [
    {
     "data": {
      "text/plain": [
       "(1472, 6)"
      ]
     },
     "execution_count": 11,
     "metadata": {},
     "output_type": "execute_result"
    }
   ],
   "source": [
    "df.shape"
   ]
  },
  {
   "cell_type": "code",
   "execution_count": 12,
   "metadata": {},
   "outputs": [
    {
     "data": {
      "text/html": [
       "<div>\n",
       "<style scoped>\n",
       "    .dataframe tbody tr th:only-of-type {\n",
       "        vertical-align: middle;\n",
       "    }\n",
       "\n",
       "    .dataframe tbody tr th {\n",
       "        vertical-align: top;\n",
       "    }\n",
       "\n",
       "    .dataframe thead th {\n",
       "        text-align: right;\n",
       "    }\n",
       "</style>\n",
       "<table border=\"1\" class=\"dataframe\">\n",
       "  <thead>\n",
       "    <tr style=\"text-align: right;\">\n",
       "      <th></th>\n",
       "      <th>State</th>\n",
       "      <th>Region</th>\n",
       "      <th>Climate</th>\n",
       "      <th>Cause</th>\n",
       "      <th>Cause_Detail</th>\n",
       "      <th>Outage_Duration_Mins</th>\n",
       "    </tr>\n",
       "  </thead>\n",
       "  <tbody>\n",
       "    <tr>\n",
       "      <th>23</th>\n",
       "      <td>TN</td>\n",
       "      <td>Central</td>\n",
       "      <td>cold</td>\n",
       "      <td>severe weather</td>\n",
       "      <td>snow/ice</td>\n",
       "      <td>150.0</td>\n",
       "    </tr>\n",
       "    <tr>\n",
       "      <th>29</th>\n",
       "      <td>TN</td>\n",
       "      <td>Central</td>\n",
       "      <td>normal</td>\n",
       "      <td>intentional attack</td>\n",
       "      <td>attack</td>\n",
       "      <td>1.0</td>\n",
       "    </tr>\n",
       "    <tr>\n",
       "      <th>41</th>\n",
       "      <td>TN</td>\n",
       "      <td>Central</td>\n",
       "      <td>cold</td>\n",
       "      <td>severe weather</td>\n",
       "      <td>snow/ice</td>\n",
       "      <td>150.0</td>\n",
       "    </tr>\n",
       "    <tr>\n",
       "      <th>43</th>\n",
       "      <td>TN</td>\n",
       "      <td>Central</td>\n",
       "      <td>normal</td>\n",
       "      <td>intentional attack</td>\n",
       "      <td>attack</td>\n",
       "      <td>1.0</td>\n",
       "    </tr>\n",
       "    <tr>\n",
       "      <th>62</th>\n",
       "      <td>WI</td>\n",
       "      <td>Central</td>\n",
       "      <td>cold</td>\n",
       "      <td>intentional attack</td>\n",
       "      <td>attack</td>\n",
       "      <td>60.0</td>\n",
       "    </tr>\n",
       "    <tr>\n",
       "      <th>...</th>\n",
       "      <td>...</td>\n",
       "      <td>...</td>\n",
       "      <td>...</td>\n",
       "      <td>...</td>\n",
       "      <td>...</td>\n",
       "      <td>...</td>\n",
       "    </tr>\n",
       "    <tr>\n",
       "      <th>1347</th>\n",
       "      <td>CT</td>\n",
       "      <td>Northeast</td>\n",
       "      <td>normal</td>\n",
       "      <td>intentional attack</td>\n",
       "      <td>attack</td>\n",
       "      <td>1.0</td>\n",
       "    </tr>\n",
       "    <tr>\n",
       "      <th>1401</th>\n",
       "      <td>ME</td>\n",
       "      <td>Northeast</td>\n",
       "      <td>normal</td>\n",
       "      <td>intentional attack</td>\n",
       "      <td>attack</td>\n",
       "      <td>0.0</td>\n",
       "    </tr>\n",
       "    <tr>\n",
       "      <th>1406</th>\n",
       "      <td>ME</td>\n",
       "      <td>Northeast</td>\n",
       "      <td>normal</td>\n",
       "      <td>intentional attack</td>\n",
       "      <td>attack</td>\n",
       "      <td>0.0</td>\n",
       "    </tr>\n",
       "    <tr>\n",
       "      <th>1425</th>\n",
       "      <td>NH</td>\n",
       "      <td>Northeast</td>\n",
       "      <td>normal</td>\n",
       "      <td>intentional attack</td>\n",
       "      <td>attack</td>\n",
       "      <td>0.0</td>\n",
       "    </tr>\n",
       "    <tr>\n",
       "      <th>1428</th>\n",
       "      <td>NH</td>\n",
       "      <td>Northeast</td>\n",
       "      <td>normal</td>\n",
       "      <td>intentional attack</td>\n",
       "      <td>attack</td>\n",
       "      <td>0.0</td>\n",
       "    </tr>\n",
       "  </tbody>\n",
       "</table>\n",
       "<p>161 rows × 6 columns</p>\n",
       "</div>"
      ],
      "text/plain": [
       "     State     Region Climate               Cause Cause_Detail  \\\n",
       "23      TN    Central    cold      severe weather     snow/ice   \n",
       "29      TN    Central  normal  intentional attack       attack   \n",
       "41      TN    Central    cold      severe weather     snow/ice   \n",
       "43      TN    Central  normal  intentional attack       attack   \n",
       "62      WI    Central    cold  intentional attack       attack   \n",
       "...    ...        ...     ...                 ...          ...   \n",
       "1347    CT  Northeast  normal  intentional attack       attack   \n",
       "1401    ME  Northeast  normal  intentional attack       attack   \n",
       "1406    ME  Northeast  normal  intentional attack       attack   \n",
       "1425    NH  Northeast  normal  intentional attack       attack   \n",
       "1428    NH  Northeast  normal  intentional attack       attack   \n",
       "\n",
       "      Outage_Duration_Mins  \n",
       "23                   150.0  \n",
       "29                     1.0  \n",
       "41                   150.0  \n",
       "43                     1.0  \n",
       "62                    60.0  \n",
       "...                    ...  \n",
       "1347                   1.0  \n",
       "1401                   0.0  \n",
       "1406                   0.0  \n",
       "1425                   0.0  \n",
       "1428                   0.0  \n",
       "\n",
       "[161 rows x 6 columns]"
      ]
     },
     "execution_count": 12,
     "metadata": {},
     "output_type": "execute_result"
    }
   ],
   "source": [
    "df[df.duplicated(keep = False)]"
   ]
  },
  {
   "cell_type": "markdown",
   "metadata": {},
   "source": [
    "From the cell above, we see that there are a total of 161 observations that are duplicated at least once. However, we choose not to remove the duplicated observations because we are not entirely sure that they are duplicated. When reducing the number of labels in the 'Cause_Detail' and 'Region' column, we could have possibly grouped data together making them seem like duplicates when they originally were not. "
   ]
  },
  {
   "cell_type": "code",
   "execution_count": 13,
   "metadata": {},
   "outputs": [
    {
     "name": "stdout",
     "output_type": "stream",
     "text": [
      "Central      344\n",
      "Northeast    343\n",
      "South        217\n",
      "West         209\n",
      "Southeast    150\n",
      "Northwest    122\n",
      "Southwest     87\n",
      "Name: Region, dtype: int64\n",
      "\n",
      "There are 0 observations in the 'Regions' columns with missing values\n"
     ]
    }
   ],
   "source": [
    "print(df['Region'].value_counts())\n",
    "print('\\nThere are', df['Region'].isnull().sum(), 'observations in the \\'Regions\\' columns with missing values')\n"
   ]
  },
  {
   "cell_type": "code",
   "execution_count": 14,
   "metadata": {},
   "outputs": [
    {
     "name": "stdout",
     "output_type": "stream",
     "text": [
      "normal    729\n",
      "cold      463\n",
      "warm      280\n",
      "Name: Climate, dtype: int64\n",
      "\n",
      "There are 0 observations in the 'Climate' columns with missing values\n"
     ]
    }
   ],
   "source": [
    "print(df['Climate'].value_counts())\n",
    "print('\\nThere are', df['Climate'].isnull().sum(), 'observations in the \\'Climate\\' columns with missing values')\n"
   ]
  },
  {
   "cell_type": "code",
   "execution_count": 15,
   "metadata": {},
   "outputs": [
    {
     "name": "stdout",
     "output_type": "stream",
     "text": [
      "severe weather                   743\n",
      "intentional attack               403\n",
      "system operability disruption    123\n",
      "public appeal                     69\n",
      "equipment failure                 53\n",
      "islanding                         44\n",
      "fuel supply emergency             37\n",
      "Name: Cause, dtype: int64\n",
      "\n",
      "There are 0 observations in the 'Cause' columns with missing values\n"
     ]
    }
   ],
   "source": [
    "print(df['Cause'].value_counts())\n",
    "print('\\nThere are', df['Cause'].isnull().sum(), 'observations in the \\'Cause\\' columns with missing values')\n"
   ]
  },
  {
   "cell_type": "code",
   "execution_count": 16,
   "metadata": {},
   "outputs": [
    {
     "name": "stdout",
     "output_type": "stream",
     "text": [
      "attack                   357\n",
      "thunder/lightning        180\n",
      "snow/ice                 140\n",
      "wind/rain                122\n",
      "hurricanes                73\n",
      "soft/hard ware            59\n",
      "wildfire                  23\n",
      "uncontrolled loss         14\n",
      "coal                      13\n",
      "heatwave                  10\n",
      "tornadoes                  8\n",
      "natural gas                7\n",
      "loadshed/transmission      6\n",
      "earthquake                 4\n",
      "hydro                      4\n",
      "flooding                   4\n",
      "Name: Cause_Detail, dtype: int64\n",
      "\n",
      "There are 448 observations in the 'Cause_Detail' columns with missing values\n"
     ]
    }
   ],
   "source": [
    "print(df['Cause_Detail'].value_counts())\n",
    "print('\\nThere are', df['Cause_Detail'].isnull().sum(), 'observations in the \\'Cause_Detail\\' columns with missing values')\n"
   ]
  },
  {
   "cell_type": "code",
   "execution_count": 17,
   "metadata": {},
   "outputs": [
    {
     "name": "stdout",
     "output_type": "stream",
     "text": [
      "count      1472.000000\n",
      "mean       2630.324728\n",
      "std        5949.472952\n",
      "min           0.000000\n",
      "25%         103.000000\n",
      "50%         711.000000\n",
      "75%        2880.000000\n",
      "max      108653.000000\n",
      "Name: Outage_Duration_Mins, dtype: float64\n",
      "\n",
      "The median outage duration time in minutes is 711.0\n",
      "\n",
      "There are 0 observations in the 'Outage_Duration_Mins' columns with missing values\n"
     ]
    }
   ],
   "source": [
    "print(df['Outage_Duration_Mins'].describe())\n",
    "print('\\nThe median outage duration time in minutes is', df['Outage_Duration_Mins'].median())\n",
    "print('\\nThere are', df['Outage_Duration_Mins'].isnull().sum(), 'observations in the \\'Outage_Duration_Mins\\' columns with missing values')"
   ]
  },
  {
   "cell_type": "markdown",
   "metadata": {},
   "source": [
    "From the cells above, starting with the 'Region', we see that there are 7 different regions where the data was taken from, with the 'Northeast' and 'Central' regions comprising almost half of the data. For the 'Climate' column, we see that there are only three different climates in which the data can originate from, 'normal', 'warm', or 'cold', with 'normal' being the biggest contributor. As for the 'Cause' column, there are only 7 different categories in which the cause of the problem can be categorized as, ranging from system distribution and hardware malfunction to intentional attacks and severe weather. The 'Cause_Detail' column goes into further detail listing out what was the actual cause of the power outage. \n",
    "\n",
    "For the 'Outage_Duration_Mins' column, we see that the mean is 2625.39 minutes while the median is only 701 minutes. Because of the difference in the mean and median values, this leads us to believe that there are outliers present in the data, causing the mean value to be much greater than the median. "
   ]
  },
  {
   "cell_type": "markdown",
   "metadata": {},
   "source": [
    "Because there are outliers in the data, we want to see how the distribution looks like"
   ]
  },
  {
   "cell_type": "code",
   "execution_count": 18,
   "metadata": {},
   "outputs": [
    {
     "data": {
      "text/plain": [
       "Text(0, 0.5, 'Frequency')"
      ]
     },
     "execution_count": 18,
     "metadata": {},
     "output_type": "execute_result"
    },
    {
     "data": {
      "image/png": "[encoded data removed]",
      "text/plain": [
       "<Figure size 842.4x595.44 with 1 Axes>"
      ]
     },
     "metadata": {},
     "output_type": "display_data"
    }
   ],
   "source": [
    "ax = df['Outage_Duration_Mins'].plot(kind = 'hist', bins = 25)\n",
    "ax.set_title('Distribution of Power Outage Duration in Minutes', fontsize = 20)\n",
    "ax.set_xlabel(\"Power Outage Duration in Minutes\", fontsize = 15)\n",
    "ax.set_ylabel('Frequency', fontsize = 15)"
   ]
  },
  {
   "cell_type": "markdown",
   "metadata": {},
   "source": [
    "From the cell above, we see that the data really isn't evenly spread with most of the data points being around 5000 minutes. To fix this and make the data form a more normal distribution, we apply a log transformation to the data"
   ]
  },
  {
   "cell_type": "code",
   "execution_count": 19,
   "metadata": {},
   "outputs": [
    {
     "data": {
      "text/html": [
       "<div>\n",
       "<style scoped>\n",
       "    .dataframe tbody tr th:only-of-type {\n",
       "        vertical-align: middle;\n",
       "    }\n",
       "\n",
       "    .dataframe tbody tr th {\n",
       "        vertical-align: top;\n",
       "    }\n",
       "\n",
       "    .dataframe thead th {\n",
       "        text-align: right;\n",
       "    }\n",
       "</style>\n",
       "<table border=\"1\" class=\"dataframe\">\n",
       "  <thead>\n",
       "    <tr style=\"text-align: right;\">\n",
       "      <th></th>\n",
       "      <th>State</th>\n",
       "      <th>Region</th>\n",
       "      <th>Climate</th>\n",
       "      <th>Cause</th>\n",
       "      <th>Cause_Detail</th>\n",
       "      <th>Outage_Duration_Mins</th>\n",
       "      <th>out_level</th>\n",
       "    </tr>\n",
       "  </thead>\n",
       "  <tbody>\n",
       "    <tr>\n",
       "      <th>0</th>\n",
       "      <td>MN</td>\n",
       "      <td>Central</td>\n",
       "      <td>normal</td>\n",
       "      <td>severe weather</td>\n",
       "      <td>NaN</td>\n",
       "      <td>3060.0</td>\n",
       "      <td>3</td>\n",
       "    </tr>\n",
       "    <tr>\n",
       "      <th>1</th>\n",
       "      <td>MN</td>\n",
       "      <td>Central</td>\n",
       "      <td>normal</td>\n",
       "      <td>intentional attack</td>\n",
       "      <td>attack</td>\n",
       "      <td>1.0</td>\n",
       "      <td>0</td>\n",
       "    </tr>\n",
       "    <tr>\n",
       "      <th>2</th>\n",
       "      <td>MN</td>\n",
       "      <td>Central</td>\n",
       "      <td>cold</td>\n",
       "      <td>severe weather</td>\n",
       "      <td>wind/rain</td>\n",
       "      <td>3000.0</td>\n",
       "      <td>3</td>\n",
       "    </tr>\n",
       "    <tr>\n",
       "      <th>3</th>\n",
       "      <td>MN</td>\n",
       "      <td>Central</td>\n",
       "      <td>normal</td>\n",
       "      <td>severe weather</td>\n",
       "      <td>thunder/lightning</td>\n",
       "      <td>2550.0</td>\n",
       "      <td>3</td>\n",
       "    </tr>\n",
       "    <tr>\n",
       "      <th>4</th>\n",
       "      <td>MN</td>\n",
       "      <td>Central</td>\n",
       "      <td>warm</td>\n",
       "      <td>severe weather</td>\n",
       "      <td>NaN</td>\n",
       "      <td>1740.0</td>\n",
       "      <td>3</td>\n",
       "    </tr>\n",
       "    <tr>\n",
       "      <th>...</th>\n",
       "      <td>...</td>\n",
       "      <td>...</td>\n",
       "      <td>...</td>\n",
       "      <td>...</td>\n",
       "      <td>...</td>\n",
       "      <td>...</td>\n",
       "      <td>...</td>\n",
       "    </tr>\n",
       "    <tr>\n",
       "      <th>1471</th>\n",
       "      <td>ID</td>\n",
       "      <td>Northwest</td>\n",
       "      <td>warm</td>\n",
       "      <td>intentional attack</td>\n",
       "      <td>attack</td>\n",
       "      <td>0.0</td>\n",
       "      <td>1</td>\n",
       "    </tr>\n",
       "    <tr>\n",
       "      <th>1472</th>\n",
       "      <td>ID</td>\n",
       "      <td>Northwest</td>\n",
       "      <td>normal</td>\n",
       "      <td>system operability disruption</td>\n",
       "      <td>uncontrolled loss</td>\n",
       "      <td>220.0</td>\n",
       "      <td>2</td>\n",
       "    </tr>\n",
       "    <tr>\n",
       "      <th>1473</th>\n",
       "      <td>ND</td>\n",
       "      <td>Central</td>\n",
       "      <td>cold</td>\n",
       "      <td>public appeal</td>\n",
       "      <td>NaN</td>\n",
       "      <td>720.0</td>\n",
       "      <td>2</td>\n",
       "    </tr>\n",
       "    <tr>\n",
       "      <th>1474</th>\n",
       "      <td>SD</td>\n",
       "      <td>Central</td>\n",
       "      <td>warm</td>\n",
       "      <td>islanding</td>\n",
       "      <td>NaN</td>\n",
       "      <td>59.0</td>\n",
       "      <td>1</td>\n",
       "    </tr>\n",
       "    <tr>\n",
       "      <th>1475</th>\n",
       "      <td>SD</td>\n",
       "      <td>Central</td>\n",
       "      <td>warm</td>\n",
       "      <td>islanding</td>\n",
       "      <td>NaN</td>\n",
       "      <td>181.0</td>\n",
       "      <td>2</td>\n",
       "    </tr>\n",
       "  </tbody>\n",
       "</table>\n",
       "<p>1472 rows × 7 columns</p>\n",
       "</div>"
      ],
      "text/plain": [
       "     State     Region Climate                          Cause  \\\n",
       "0       MN    Central  normal                 severe weather   \n",
       "1       MN    Central  normal             intentional attack   \n",
       "2       MN    Central    cold                 severe weather   \n",
       "3       MN    Central  normal                 severe weather   \n",
       "4       MN    Central    warm                 severe weather   \n",
       "...    ...        ...     ...                            ...   \n",
       "1471    ID  Northwest    warm             intentional attack   \n",
       "1472    ID  Northwest  normal  system operability disruption   \n",
       "1473    ND    Central    cold                  public appeal   \n",
       "1474    SD    Central    warm                      islanding   \n",
       "1475    SD    Central    warm                      islanding   \n",
       "\n",
       "           Cause_Detail  Outage_Duration_Mins  out_level  \n",
       "0                   NaN                3060.0          3  \n",
       "1                attack                   1.0          0  \n",
       "2             wind/rain                3000.0          3  \n",
       "3     thunder/lightning                2550.0          3  \n",
       "4                   NaN                1740.0          3  \n",
       "...                 ...                   ...        ...  \n",
       "1471             attack                   0.0          1  \n",
       "1472  uncontrolled loss                 220.0          2  \n",
       "1473                NaN                 720.0          2  \n",
       "1474                NaN                  59.0          1  \n",
       "1475                NaN                 181.0          2  \n",
       "\n",
       "[1472 rows x 7 columns]"
      ]
     },
     "execution_count": 19,
     "metadata": {},
     "output_type": "execute_result"
    }
   ],
   "source": [
    "def change(num):\n",
    "    if num<=0:\n",
    "        return 1\n",
    "    else:\n",
    "        return int(np.log(num)/np.log(10))\n",
    "    \n",
    "df['out_level'] = df['Outage_Duration_Mins'].apply(change)\n",
    "df\n"
   ]
  },
  {
   "cell_type": "code",
   "execution_count": 20,
   "metadata": {},
   "outputs": [
    {
     "data": {
      "text/plain": [
       "Text(0, 0.5, 'Frequency')"
      ]
     },
     "execution_count": 20,
     "metadata": {},
     "output_type": "execute_result"
    },
    {
     "data": {
      "image/png": "[encoded data removed]",
      "text/plain": [
       "<Figure size 842.4x595.44 with 1 Axes>"
      ]
     },
     "metadata": {},
     "output_type": "display_data"
    }
   ],
   "source": [
    "ax = df['out_level'].plot.hist(bins = 5)\n",
    "ax.set_title('Distribution of Power Outage Duration (log transformed)', fontsize = 20)\n",
    "ax.set_xlabel('Power Outage Duration (log transformed)', fontsize = 15)\n",
    "ax.set_ylabel('Frequency', fontsize = 15)"
   ]
  },
  {
   "cell_type": "code",
   "execution_count": 21,
   "metadata": {},
   "outputs": [
    {
     "data": {
      "text/plain": [
       "3    583\n",
       "2    439\n",
       "1    244\n",
       "0    121\n",
       "4     84\n",
       "5      1\n",
       "Name: out_level, dtype: int64"
      ]
     },
     "execution_count": 21,
     "metadata": {},
     "output_type": "execute_result"
    }
   ],
   "source": [
    "df['out_level'].value_counts()"
   ]
  },
  {
   "cell_type": "markdown",
   "metadata": {},
   "source": [
    "The second way we decided to group the data was manually grouping the power outage durations into five different severity levels based on what we had thought, with level 1 being the least severe and level 5 being the most severe"
   ]
  },
  {
   "cell_type": "code",
   "execution_count": 22,
   "metadata": {},
   "outputs": [
    {
     "data": {
      "text/html": [
       "<div>\n",
       "<style scoped>\n",
       "    .dataframe tbody tr th:only-of-type {\n",
       "        vertical-align: middle;\n",
       "    }\n",
       "\n",
       "    .dataframe tbody tr th {\n",
       "        vertical-align: top;\n",
       "    }\n",
       "\n",
       "    .dataframe thead th {\n",
       "        text-align: right;\n",
       "    }\n",
       "</style>\n",
       "<table border=\"1\" class=\"dataframe\">\n",
       "  <thead>\n",
       "    <tr style=\"text-align: right;\">\n",
       "      <th></th>\n",
       "      <th>State</th>\n",
       "      <th>Region</th>\n",
       "      <th>Climate</th>\n",
       "      <th>Cause</th>\n",
       "      <th>Cause_Detail</th>\n",
       "      <th>Outage_Duration_Mins</th>\n",
       "      <th>out_level</th>\n",
       "      <th>Severity</th>\n",
       "    </tr>\n",
       "  </thead>\n",
       "  <tbody>\n",
       "    <tr>\n",
       "      <th>0</th>\n",
       "      <td>MN</td>\n",
       "      <td>Central</td>\n",
       "      <td>normal</td>\n",
       "      <td>severe weather</td>\n",
       "      <td>NaN</td>\n",
       "      <td>3060.0</td>\n",
       "      <td>3</td>\n",
       "      <td>4</td>\n",
       "    </tr>\n",
       "    <tr>\n",
       "      <th>1</th>\n",
       "      <td>MN</td>\n",
       "      <td>Central</td>\n",
       "      <td>normal</td>\n",
       "      <td>intentional attack</td>\n",
       "      <td>attack</td>\n",
       "      <td>1.0</td>\n",
       "      <td>0</td>\n",
       "      <td>1</td>\n",
       "    </tr>\n",
       "    <tr>\n",
       "      <th>2</th>\n",
       "      <td>MN</td>\n",
       "      <td>Central</td>\n",
       "      <td>cold</td>\n",
       "      <td>severe weather</td>\n",
       "      <td>wind/rain</td>\n",
       "      <td>3000.0</td>\n",
       "      <td>3</td>\n",
       "      <td>4</td>\n",
       "    </tr>\n",
       "    <tr>\n",
       "      <th>3</th>\n",
       "      <td>MN</td>\n",
       "      <td>Central</td>\n",
       "      <td>normal</td>\n",
       "      <td>severe weather</td>\n",
       "      <td>thunder/lightning</td>\n",
       "      <td>2550.0</td>\n",
       "      <td>3</td>\n",
       "      <td>4</td>\n",
       "    </tr>\n",
       "    <tr>\n",
       "      <th>4</th>\n",
       "      <td>MN</td>\n",
       "      <td>Central</td>\n",
       "      <td>warm</td>\n",
       "      <td>severe weather</td>\n",
       "      <td>NaN</td>\n",
       "      <td>1740.0</td>\n",
       "      <td>3</td>\n",
       "      <td>4</td>\n",
       "    </tr>\n",
       "    <tr>\n",
       "      <th>...</th>\n",
       "      <td>...</td>\n",
       "      <td>...</td>\n",
       "      <td>...</td>\n",
       "      <td>...</td>\n",
       "      <td>...</td>\n",
       "      <td>...</td>\n",
       "      <td>...</td>\n",
       "      <td>...</td>\n",
       "    </tr>\n",
       "    <tr>\n",
       "      <th>1471</th>\n",
       "      <td>ID</td>\n",
       "      <td>Northwest</td>\n",
       "      <td>warm</td>\n",
       "      <td>intentional attack</td>\n",
       "      <td>attack</td>\n",
       "      <td>0.0</td>\n",
       "      <td>1</td>\n",
       "      <td>1</td>\n",
       "    </tr>\n",
       "    <tr>\n",
       "      <th>1472</th>\n",
       "      <td>ID</td>\n",
       "      <td>Northwest</td>\n",
       "      <td>normal</td>\n",
       "      <td>system operability disruption</td>\n",
       "      <td>uncontrolled loss</td>\n",
       "      <td>220.0</td>\n",
       "      <td>2</td>\n",
       "      <td>2</td>\n",
       "    </tr>\n",
       "    <tr>\n",
       "      <th>1473</th>\n",
       "      <td>ND</td>\n",
       "      <td>Central</td>\n",
       "      <td>cold</td>\n",
       "      <td>public appeal</td>\n",
       "      <td>NaN</td>\n",
       "      <td>720.0</td>\n",
       "      <td>2</td>\n",
       "      <td>3</td>\n",
       "    </tr>\n",
       "    <tr>\n",
       "      <th>1474</th>\n",
       "      <td>SD</td>\n",
       "      <td>Central</td>\n",
       "      <td>warm</td>\n",
       "      <td>islanding</td>\n",
       "      <td>NaN</td>\n",
       "      <td>59.0</td>\n",
       "      <td>1</td>\n",
       "      <td>1</td>\n",
       "    </tr>\n",
       "    <tr>\n",
       "      <th>1475</th>\n",
       "      <td>SD</td>\n",
       "      <td>Central</td>\n",
       "      <td>warm</td>\n",
       "      <td>islanding</td>\n",
       "      <td>NaN</td>\n",
       "      <td>181.0</td>\n",
       "      <td>2</td>\n",
       "      <td>2</td>\n",
       "    </tr>\n",
       "  </tbody>\n",
       "</table>\n",
       "<p>1472 rows × 8 columns</p>\n",
       "</div>"
      ],
      "text/plain": [
       "     State     Region Climate                          Cause  \\\n",
       "0       MN    Central  normal                 severe weather   \n",
       "1       MN    Central  normal             intentional attack   \n",
       "2       MN    Central    cold                 severe weather   \n",
       "3       MN    Central  normal                 severe weather   \n",
       "4       MN    Central    warm                 severe weather   \n",
       "...    ...        ...     ...                            ...   \n",
       "1471    ID  Northwest    warm             intentional attack   \n",
       "1472    ID  Northwest  normal  system operability disruption   \n",
       "1473    ND    Central    cold                  public appeal   \n",
       "1474    SD    Central    warm                      islanding   \n",
       "1475    SD    Central    warm                      islanding   \n",
       "\n",
       "           Cause_Detail  Outage_Duration_Mins  out_level  Severity  \n",
       "0                   NaN                3060.0          3         4  \n",
       "1                attack                   1.0          0         1  \n",
       "2             wind/rain                3000.0          3         4  \n",
       "3     thunder/lightning                2550.0          3         4  \n",
       "4                   NaN                1740.0          3         4  \n",
       "...                 ...                   ...        ...       ...  \n",
       "1471             attack                   0.0          1         1  \n",
       "1472  uncontrolled loss                 220.0          2         2  \n",
       "1473                NaN                 720.0          2         3  \n",
       "1474                NaN                  59.0          1         1  \n",
       "1475                NaN                 181.0          2         2  \n",
       "\n",
       "[1472 rows x 8 columns]"
      ]
     },
     "execution_count": 22,
     "metadata": {},
     "output_type": "execute_result"
    }
   ],
   "source": [
    "def assign_severity(duration):\n",
    "    if duration < 100:\n",
    "        severe = 1\n",
    "    elif duration >= 100 and duration < 500:\n",
    "        severe = 2\n",
    "    elif duration >= 500 and duration < 1500:\n",
    "        severe = 3\n",
    "    elif duration >= 1500 and duration < 5000:\n",
    "        severe = 4\n",
    "    else:\n",
    "        severe = 5\n",
    "    return severe\n",
    "    \n",
    "df['Severity'] = df['Outage_Duration_Mins'].apply(assign_severity)\n",
    "df"
   ]
  },
  {
   "cell_type": "code",
   "execution_count": 23,
   "metadata": {},
   "outputs": [
    {
     "data": {
      "text/plain": [
       "Text(0, 0.5, 'Frequency')"
      ]
     },
     "execution_count": 23,
     "metadata": {},
     "output_type": "execute_result"
    },
    {
     "data": {
      "image/png": "[encoded data removed]",
      "text/plain": [
       "<Figure size 842.4x595.44 with 1 Axes>"
      ]
     },
     "metadata": {},
     "output_type": "display_data"
    }
   ],
   "source": [
    "ax = df['Severity'].plot(kind = 'hist', bins = 5, xticks = (1, 2, 3, 4, 5), xlim = (1, 5))\n",
    "ax.set_title('Distribution of Severity Levels (1-5)', fontsize = 20)\n",
    "ax.set_xlabel('Severity Level', fontsize = 15)\n",
    "ax.set_ylabel('Frequency', fontsize = 15)"
   ]
  },
  {
   "cell_type": "markdown",
   "metadata": {},
   "source": [
    "Because we want to predict the level of severity using the 'Region', 'Climate', and 'Cause' as inputs, we need to assign each observation a severity first so that we can check how accurate our prediction model is. \n",
    "\n",
    "We decided to group the values two different ways and when performing the prediction model, see which way is more effective. We performed a log transformation on the data and dividing it by log(10) and then from this value, separating them into groups between 0-10, 10-100, 100-1000, 1000-10000, and 10000+. We had decided that this would be the second way because after applying a log transformation to the data, the histogram is more normally distributed than the raw data, plotting just the duration time.\n",
    "\n",
    "The other way we had done was that durations less than 100 minutes would be categorized as severity level of 1, between 100-500 minutes would be level 2, between 500-1500 would be level 3, and so on. We decided on this because when we had encountered power outages, the most we encountered were a few hours or just a few hundred minutes. However, we see in our data there are multiple observations with durations in the thousands and even ten thousand, so we decided to classify those at a higher level. "
   ]
  },
  {
   "cell_type": "markdown",
   "metadata": {},
   "source": [
    "After comparing the distributions, we want to plot the data and see it visually. Plotting Climate against the raw power outage duration, severity level, and the out_level below."
   ]
  },
  {
   "cell_type": "code",
   "execution_count": 24,
   "metadata": {},
   "outputs": [
    {
     "data": {
      "text/plain": [
       "Text(0, 0.5, 'Climate')"
      ]
     },
     "execution_count": 24,
     "metadata": {},
     "output_type": "execute_result"
    },
    {
     "data": {
      "image/png": "[encoded data removed]",
      "text/plain": [
       "<Figure size 842.4x595.44 with 1 Axes>"
      ]
     },
     "metadata": {},
     "output_type": "display_data"
    }
   ],
   "source": [
    "#Ordering the columns\n",
    "order = ['warm', 'cold', 'normal']\n",
    "#Climate vs Powr Outage (Mintues)\n",
    "ax = sns.boxplot(y = 'Climate', x = 'Outage_Duration_Mins', data = df, order = order)\n",
    "ax.set_title('Spread of Climate vs Power Outage Duration in Minutes', fontsize = 20)\n",
    "ax.set_xlabel('Power Outage Duration (Minutes)', fontsize = 15)\n",
    "ax.set_ylabel('Climate', fontsize = 15)"
   ]
  },
  {
   "cell_type": "code",
   "execution_count": 25,
   "metadata": {},
   "outputs": [
    {
     "data": {
      "text/plain": [
       "Text(0, 0.5, 'Climate')"
      ]
     },
     "execution_count": 25,
     "metadata": {},
     "output_type": "execute_result"
    },
    {
     "data": {
      "image/png": "[encoded data removed]",
      "text/plain": [
       "<Figure size 842.4x595.44 with 1 Axes>"
      ]
     },
     "metadata": {},
     "output_type": "display_data"
    }
   ],
   "source": [
    "#Climate vs Severity\n",
    "ax = sns.boxplot(y = 'Climate', x = 'Severity', data = df, order = order)\n",
    "ax.set_title('Spread of Climate vs Severity Level (1-5)', fontsize = 20)\n",
    "ax.set_xlabel('Severity Level (1-5)', fontsize = 15)\n",
    "ax.set_ylabel('Climate', fontsize = 15)"
   ]
  },
  {
   "cell_type": "code",
   "execution_count": 26,
   "metadata": {},
   "outputs": [
    {
     "data": {
      "text/plain": [
       "Text(0, 0.5, 'Climate')"
      ]
     },
     "execution_count": 26,
     "metadata": {},
     "output_type": "execute_result"
    },
    {
     "data": {
      "image/png": "[encoded data removed]",
      "text/plain": [
       "<Figure size 842.4x595.44 with 1 Axes>"
      ]
     },
     "metadata": {},
     "output_type": "display_data"
    }
   ],
   "source": [
    "#Climate vs Power Outage (Log Transformed)\n",
    "ax = sns.boxplot(y = 'Climate', x = 'out_level', data = df, order = order)\n",
    "ax.set_title(' Spread of Climate vs Power Outage Duration (Log Transformed)', fontsize = 20)\n",
    "ax.set_xlabel('Power Outage Duration (Log Transformed)', fontsize = 15)\n",
    "ax.set_ylabel('Climate', fontsize = 15)"
   ]
  },
  {
   "cell_type": "markdown",
   "metadata": {},
   "source": [
    "After performing a log transformation on the 'Outage_Duration_Mins' column, we see that it is much clearer than the original data. We see that the mean severity level of all three climates is around a 3 meaning that for all three climates, the mean outage duration time was between 500 and 1500 minutes.\n",
    "\n",
    "\n",
    "After manually separating the observations into severity levels and performing the log transformations, we see that for the 'cold' and 'warm' climates, values are typically between 2 and 3 while for the 'normal' climates, it is between 1 and 3.\n",
    "\n",
    "Comparing the three plots above, we see that it is much easier to work with the last two graphs than the first one. \n",
    "\n",
    "For the remaining of the plots, instead of plotting attributes against severity and power outage duration (log transformed), we will just plot against power outage duration (log transformed) because when grouping severity, we had done it based on what we had thought, however, using the log transformed data, the categories were based on calculations which may make it more accurate than severity."
   ]
  },
  {
   "cell_type": "markdown",
   "metadata": {},
   "source": [
    "Continuing with visualizing the data, for the remaining predictors, we are just using the out_level because as we saw before, it is more normal in distribution."
   ]
  },
  {
   "cell_type": "code",
   "execution_count": 27,
   "metadata": {},
   "outputs": [
    {
     "data": {
      "text/plain": [
       "Text(0, 0.5, 'Region')"
      ]
     },
     "execution_count": 27,
     "metadata": {},
     "output_type": "execute_result"
    },
    {
     "data": {
      "image/png": "[encoded data removed]",
      "text/plain": [
       "<Figure size 842.4x595.44 with 1 Axes>"
      ]
     },
     "metadata": {},
     "output_type": "display_data"
    }
   ],
   "source": [
    "#Region vs Power Outage (Log Transformed)\n",
    "ax = sns.boxplot(y = 'Region', x = 'out_level', data = df, order = ['Southwest', 'South', 'Southeast', 'Central' , 'Northeast', 'Northwest'])\n",
    "ax.set_title('Spread of Region vs Power Outage Duration (Log Transformed)', fontsize = 20)\n",
    "ax.set_xlabel('Power Outage Duration (Log Transformed)', fontsize = 15)\n",
    "ax.set_ylabel('Region', fontsize = 15)"
   ]
  },
  {
   "cell_type": "markdown",
   "metadata": {},
   "source": [
    "From this plot above, we see that no single 'Region' has an extremely low or high mean or median. This allows us to proceed with our project, because we do not find any bias present, as from the plot above, there are only a few outliers, which is too be expected. We would conclude that there would be bias if a single region had an extremely low or high mean power outage duration because that would suggest that the data differs from the rest significantly and has possibly been tampered with. "
   ]
  },
  {
   "cell_type": "code",
   "execution_count": 28,
   "metadata": {},
   "outputs": [
    {
     "data": {
      "text/plain": [
       "Text(0, 0.5, 'Cause')"
      ]
     },
     "execution_count": 28,
     "metadata": {},
     "output_type": "execute_result"
    },
    {
     "data": {
      "image/png": "[encoded data removed]",
      "text/plain": [
       "<Figure size 842.4x595.44 with 1 Axes>"
      ]
     },
     "metadata": {},
     "output_type": "display_data"
    }
   ],
   "source": [
    "#Cause vs Power Outage (Log Transformed)\n",
    "ax = sns.boxplot(y = 'Cause', x = 'out_level', data = df, order = ['islanding', 'system operability disruption', 'intentional attack', 'equipment failure', 'severe weather', 'public appeal', 'fuel supply emergency'])\n",
    "ax.set_title('Spread of Cause vs Power Outage Duration (Log Transformed)', fontsize = 20)\n",
    "ax.set_xlabel('Power Outage Duration (Log Transformed)', fontsize = 15)\n",
    "ax.set_ylabel('Cause', fontsize = 15)"
   ]
  },
  {
   "cell_type": "code",
   "execution_count": 29,
   "metadata": {},
   "outputs": [
    {
     "data": {
      "text/plain": [
       "Text(0, 0.5, 'Cause Detail')"
      ]
     },
     "execution_count": 29,
     "metadata": {},
     "output_type": "execute_result"
    },
    {
     "data": {
      "image/png": "[encoded data removed]",
      "text/plain": [
       "<Figure size 842.4x595.44 with 1 Axes>"
      ]
     },
     "metadata": {},
     "output_type": "display_data"
    }
   ],
   "source": [
    "#Cause Detail vs Power Outage (Log Transformed)\n",
    "order = ['attack', 'uncontrolled loss', 'earthquake', 'soft/hard ware', 'loadshed/transmission', 'heatwave', 'wind/rain', 'thunder/lightning', 'natural gas', 'snow/ice', 'tornadoes', 'hydro', 'wildfire', 'coal', 'hurricanes', 'flooding']\n",
    "ax = sns.boxplot(y = 'Cause_Detail', x = 'out_level', data = df, order = order)\n",
    "ax.set_title('Spread of Cause Detail vs Power Outage Duration (Log Transformed)', fontsize = 20)\n",
    "ax.set_xlabel('Power Outage Duration (Log Transformed)', fontsize = 15)\n",
    "ax.set_ylabel('Cause Detail', fontsize = 15)"
   ]
  },
  {
   "cell_type": "markdown",
   "metadata": {},
   "source": [
    "From the first graph of Region vs Power Outage Duration (log transformed), we don't really get much information from it. The only thing we can tell is that the mean duration times are roughly similar, leading us to believe that Region doesn't really play a role in predicting power outage duration. \n",
    "\n",
    "In the second graph of Cause vs Power Outage Duration (log transformed), we see that fuel supply emergency has the highest mean out of all the causes with severe weather being second. \n",
    "\n",
    "From the third graph, we see that the Cause_Detail of coal and flooding have the two highest means out of all the cause detail categories. \n",
    "\n",
    "From the second and third graphs, we start to believe that our original hypothesis that severe weather has the most influence on the power outage duration was wrong, and that fuel supply emergency, specifically coal, is a more significant predictor than severe weather, however, so far we are just speculating. "
   ]
  },
  {
   "cell_type": "markdown",
   "metadata": {},
   "source": [
    "After visualizing the spread of the data, we want to get a sense of the grouping the observations by the Region and the Cause and obtaining the highest median in each group"
   ]
  },
  {
   "cell_type": "code",
   "execution_count": 30,
   "metadata": {},
   "outputs": [
    {
     "data": {
      "text/html": [
       "<div>\n",
       "<style scoped>\n",
       "    .dataframe tbody tr th:only-of-type {\n",
       "        vertical-align: middle;\n",
       "    }\n",
       "\n",
       "    .dataframe tbody tr th {\n",
       "        vertical-align: top;\n",
       "    }\n",
       "\n",
       "    .dataframe thead th {\n",
       "        text-align: right;\n",
       "    }\n",
       "</style>\n",
       "<table border=\"1\" class=\"dataframe\">\n",
       "  <thead>\n",
       "    <tr style=\"text-align: right;\">\n",
       "      <th></th>\n",
       "      <th></th>\n",
       "      <th>Outage_Duration_Mins</th>\n",
       "    </tr>\n",
       "    <tr>\n",
       "      <th>Region</th>\n",
       "      <th>Cause</th>\n",
       "      <th></th>\n",
       "    </tr>\n",
       "  </thead>\n",
       "  <tbody>\n",
       "    <tr>\n",
       "      <th rowspan=\"7\" valign=\"top\">Central</th>\n",
       "      <th>equipment failure</th>\n",
       "      <td>168.0</td>\n",
       "    </tr>\n",
       "    <tr>\n",
       "      <th>fuel supply emergency</th>\n",
       "      <td>10354.0</td>\n",
       "    </tr>\n",
       "    <tr>\n",
       "      <th>intentional attack</th>\n",
       "      <td>95.5</td>\n",
       "    </tr>\n",
       "    <tr>\n",
       "      <th>islanding</th>\n",
       "      <td>56.0</td>\n",
       "    </tr>\n",
       "    <tr>\n",
       "      <th>public appeal</th>\n",
       "      <td>554.0</td>\n",
       "    </tr>\n",
       "    <tr>\n",
       "      <th>severe weather</th>\n",
       "      <td>2818.0</td>\n",
       "    </tr>\n",
       "    <tr>\n",
       "      <th>system operability disruption</th>\n",
       "      <td>65.0</td>\n",
       "    </tr>\n",
       "    <tr>\n",
       "      <th rowspan=\"7\" valign=\"top\">Northeast</th>\n",
       "      <th>equipment failure</th>\n",
       "      <td>159.0</td>\n",
       "    </tr>\n",
       "    <tr>\n",
       "      <th>fuel supply emergency</th>\n",
       "      <td>14400.0</td>\n",
       "    </tr>\n",
       "    <tr>\n",
       "      <th>intentional attack</th>\n",
       "      <td>1.0</td>\n",
       "    </tr>\n",
       "    <tr>\n",
       "      <th>islanding</th>\n",
       "      <td>881.0</td>\n",
       "    </tr>\n",
       "    <tr>\n",
       "      <th>public appeal</th>\n",
       "      <td>2760.0</td>\n",
       "    </tr>\n",
       "    <tr>\n",
       "      <th>severe weather</th>\n",
       "      <td>3189.0</td>\n",
       "    </tr>\n",
       "    <tr>\n",
       "      <th>system operability disruption</th>\n",
       "      <td>234.5</td>\n",
       "    </tr>\n",
       "    <tr>\n",
       "      <th rowspan=\"7\" valign=\"top\">Northwest</th>\n",
       "      <th>equipment failure</th>\n",
       "      <td>702.0</td>\n",
       "    </tr>\n",
       "    <tr>\n",
       "      <th>fuel supply emergency</th>\n",
       "      <td>1.0</td>\n",
       "    </tr>\n",
       "    <tr>\n",
       "      <th>intentional attack</th>\n",
       "      <td>74.0</td>\n",
       "    </tr>\n",
       "    <tr>\n",
       "      <th>islanding</th>\n",
       "      <td>21.0</td>\n",
       "    </tr>\n",
       "    <tr>\n",
       "      <th>public appeal</th>\n",
       "      <td>898.0</td>\n",
       "    </tr>\n",
       "    <tr>\n",
       "      <th>severe weather</th>\n",
       "      <td>3507.0</td>\n",
       "    </tr>\n",
       "    <tr>\n",
       "      <th>system operability disruption</th>\n",
       "      <td>157.5</td>\n",
       "    </tr>\n",
       "    <tr>\n",
       "      <th rowspan=\"7\" valign=\"top\">South</th>\n",
       "      <th>equipment failure</th>\n",
       "      <td>227.0</td>\n",
       "    </tr>\n",
       "    <tr>\n",
       "      <th>fuel supply emergency</th>\n",
       "      <td>20160.0</td>\n",
       "    </tr>\n",
       "    <tr>\n",
       "      <th>intentional attack</th>\n",
       "      <td>100.0</td>\n",
       "    </tr>\n",
       "    <tr>\n",
       "      <th>islanding</th>\n",
       "      <td>493.5</td>\n",
       "    </tr>\n",
       "    <tr>\n",
       "      <th>public appeal</th>\n",
       "      <td>430.0</td>\n",
       "    </tr>\n",
       "    <tr>\n",
       "      <th>severe weather</th>\n",
       "      <td>2100.0</td>\n",
       "    </tr>\n",
       "    <tr>\n",
       "      <th>system operability disruption</th>\n",
       "      <td>373.0</td>\n",
       "    </tr>\n",
       "    <tr>\n",
       "      <th rowspan=\"5\" valign=\"top\">Southeast</th>\n",
       "      <th>equipment failure</th>\n",
       "      <td>308.5</td>\n",
       "    </tr>\n",
       "    <tr>\n",
       "      <th>intentional attack</th>\n",
       "      <td>108.0</td>\n",
       "    </tr>\n",
       "    <tr>\n",
       "      <th>public appeal</th>\n",
       "      <td>4320.0</td>\n",
       "    </tr>\n",
       "    <tr>\n",
       "      <th>severe weather</th>\n",
       "      <td>1355.0</td>\n",
       "    </tr>\n",
       "    <tr>\n",
       "      <th>system operability disruption</th>\n",
       "      <td>110.0</td>\n",
       "    </tr>\n",
       "    <tr>\n",
       "      <th rowspan=\"7\" valign=\"top\">Southwest</th>\n",
       "      <th>equipment failure</th>\n",
       "      <td>67.5</td>\n",
       "    </tr>\n",
       "    <tr>\n",
       "      <th>fuel supply emergency</th>\n",
       "      <td>76.0</td>\n",
       "    </tr>\n",
       "    <tr>\n",
       "      <th>intentional attack</th>\n",
       "      <td>56.0</td>\n",
       "    </tr>\n",
       "    <tr>\n",
       "      <th>islanding</th>\n",
       "      <td>2.0</td>\n",
       "    </tr>\n",
       "    <tr>\n",
       "      <th>public appeal</th>\n",
       "      <td>2275.0</td>\n",
       "    </tr>\n",
       "    <tr>\n",
       "      <th>severe weather</th>\n",
       "      <td>2425.0</td>\n",
       "    </tr>\n",
       "    <tr>\n",
       "      <th>system operability disruption</th>\n",
       "      <td>284.0</td>\n",
       "    </tr>\n",
       "    <tr>\n",
       "      <th rowspan=\"7\" valign=\"top\">West</th>\n",
       "      <th>equipment failure</th>\n",
       "      <td>353.0</td>\n",
       "    </tr>\n",
       "    <tr>\n",
       "      <th>fuel supply emergency</th>\n",
       "      <td>882.5</td>\n",
       "    </tr>\n",
       "    <tr>\n",
       "      <th>intentional attack</th>\n",
       "      <td>108.0</td>\n",
       "    </tr>\n",
       "    <tr>\n",
       "      <th>islanding</th>\n",
       "      <td>128.5</td>\n",
       "    </tr>\n",
       "    <tr>\n",
       "      <th>public appeal</th>\n",
       "      <td>420.0</td>\n",
       "    </tr>\n",
       "    <tr>\n",
       "      <th>severe weather</th>\n",
       "      <td>962.0</td>\n",
       "    </tr>\n",
       "    <tr>\n",
       "      <th>system operability disruption</th>\n",
       "      <td>206.0</td>\n",
       "    </tr>\n",
       "  </tbody>\n",
       "</table>\n",
       "</div>"
      ],
      "text/plain": [
       "                                         Outage_Duration_Mins\n",
       "Region    Cause                                              \n",
       "Central   equipment failure                             168.0\n",
       "          fuel supply emergency                       10354.0\n",
       "          intentional attack                             95.5\n",
       "          islanding                                      56.0\n",
       "          public appeal                                 554.0\n",
       "          severe weather                               2818.0\n",
       "          system operability disruption                  65.0\n",
       "Northeast equipment failure                             159.0\n",
       "          fuel supply emergency                       14400.0\n",
       "          intentional attack                              1.0\n",
       "          islanding                                     881.0\n",
       "          public appeal                                2760.0\n",
       "          severe weather                               3189.0\n",
       "          system operability disruption                 234.5\n",
       "Northwest equipment failure                             702.0\n",
       "          fuel supply emergency                           1.0\n",
       "          intentional attack                             74.0\n",
       "          islanding                                      21.0\n",
       "          public appeal                                 898.0\n",
       "          severe weather                               3507.0\n",
       "          system operability disruption                 157.5\n",
       "South     equipment failure                             227.0\n",
       "          fuel supply emergency                       20160.0\n",
       "          intentional attack                            100.0\n",
       "          islanding                                     493.5\n",
       "          public appeal                                 430.0\n",
       "          severe weather                               2100.0\n",
       "          system operability disruption                 373.0\n",
       "Southeast equipment failure                             308.5\n",
       "          intentional attack                            108.0\n",
       "          public appeal                                4320.0\n",
       "          severe weather                               1355.0\n",
       "          system operability disruption                 110.0\n",
       "Southwest equipment failure                              67.5\n",
       "          fuel supply emergency                          76.0\n",
       "          intentional attack                             56.0\n",
       "          islanding                                       2.0\n",
       "          public appeal                                2275.0\n",
       "          severe weather                               2425.0\n",
       "          system operability disruption                 284.0\n",
       "West      equipment failure                             353.0\n",
       "          fuel supply emergency                         882.5\n",
       "          intentional attack                            108.0\n",
       "          islanding                                     128.5\n",
       "          public appeal                                 420.0\n",
       "          severe weather                                962.0\n",
       "          system operability disruption                 206.0"
      ]
     },
     "execution_count": 30,
     "metadata": {},
     "output_type": "execute_result"
    }
   ],
   "source": [
    "grouped = df.groupby(by = ['Region', 'Cause']).agg('median')[['Outage_Duration_Mins']]\n",
    "grouped"
   ]
  },
  {
   "cell_type": "code",
   "execution_count": 31,
   "metadata": {},
   "outputs": [
    {
     "data": {
      "text/html": [
       "<div>\n",
       "<style scoped>\n",
       "    .dataframe tbody tr th:only-of-type {\n",
       "        vertical-align: middle;\n",
       "    }\n",
       "\n",
       "    .dataframe tbody tr th {\n",
       "        vertical-align: top;\n",
       "    }\n",
       "\n",
       "    .dataframe thead th {\n",
       "        text-align: right;\n",
       "    }\n",
       "</style>\n",
       "<table border=\"1\" class=\"dataframe\">\n",
       "  <thead>\n",
       "    <tr style=\"text-align: right;\">\n",
       "      <th></th>\n",
       "      <th></th>\n",
       "      <th>Outage_Duration_Mins</th>\n",
       "    </tr>\n",
       "    <tr>\n",
       "      <th>Region</th>\n",
       "      <th>Cause</th>\n",
       "      <th></th>\n",
       "    </tr>\n",
       "  </thead>\n",
       "  <tbody>\n",
       "    <tr>\n",
       "      <th>Central</th>\n",
       "      <th>fuel supply emergency</th>\n",
       "      <td>10354.0</td>\n",
       "    </tr>\n",
       "    <tr>\n",
       "      <th>Northeast</th>\n",
       "      <th>fuel supply emergency</th>\n",
       "      <td>14400.0</td>\n",
       "    </tr>\n",
       "    <tr>\n",
       "      <th>Northwest</th>\n",
       "      <th>severe weather</th>\n",
       "      <td>3507.0</td>\n",
       "    </tr>\n",
       "    <tr>\n",
       "      <th>South</th>\n",
       "      <th>fuel supply emergency</th>\n",
       "      <td>20160.0</td>\n",
       "    </tr>\n",
       "    <tr>\n",
       "      <th>Southwest</th>\n",
       "      <th>severe weather</th>\n",
       "      <td>2425.0</td>\n",
       "    </tr>\n",
       "    <tr>\n",
       "      <th>West</th>\n",
       "      <th>severe weather</th>\n",
       "      <td>962.0</td>\n",
       "    </tr>\n",
       "  </tbody>\n",
       "</table>\n",
       "</div>"
      ],
      "text/plain": [
       "                                 Outage_Duration_Mins\n",
       "Region    Cause                                      \n",
       "Central   fuel supply emergency               10354.0\n",
       "Northeast fuel supply emergency               14400.0\n",
       "Northwest severe weather                       3507.0\n",
       "South     fuel supply emergency               20160.0\n",
       "Southwest severe weather                       2425.0\n",
       "West      severe weather                        962.0"
      ]
     },
     "execution_count": 31,
     "metadata": {},
     "output_type": "execute_result"
    }
   ],
   "source": [
    "ce_max = grouped.loc['Central']['Outage_Duration_Mins'].max()\n",
    "ne_max = grouped.loc['Northeast']['Outage_Duration_Mins'].max()\n",
    "nw_max = grouped.loc['Northwest']['Outage_Duration_Mins'].max()\n",
    "s_max = grouped.loc['South']['Outage_Duration_Mins'].max()\n",
    "se_max = grouped.loc['Southeast']['Outage_Duration_Mins'].max()\n",
    "sw_max = grouped.loc['Southwest']['Outage_Duration_Mins'].max()\n",
    "w_max = grouped.loc['West']['Outage_Duration_Mins'].max()\n",
    "\n",
    "grouped[grouped['Outage_Duration_Mins'].isin({ce_max, ne_max, nw_max, s_max, sw_max, w_max})]\n"
   ]
  },
  {
   "cell_type": "markdown",
   "metadata": {},
   "source": [
    "From the cells above, we see that fuel supply emergency and severe weather have been the cause of a long power outage duration time. In the 'Central', 'Northeast', and 'South' regions, the 'fuel supply emergency' cause resulted in the longest median power outage duration with a range of 10,000 - 20,000 minutes. In the 'Northwest', 'Southwest', and 'West' regions, we see that severe weather played a significant role in the power outage duration with approximately between a median range of 900 - 3,500 minutes. "
   ]
  },
  {
   "cell_type": "markdown",
   "metadata": {},
   "source": [
    "Doing the same with Climate, we group each observation by the Climate and the Cause and aggregate them by the medians."
   ]
  },
  {
   "cell_type": "code",
   "execution_count": 32,
   "metadata": {},
   "outputs": [
    {
     "data": {
      "text/html": [
       "<div>\n",
       "<style scoped>\n",
       "    .dataframe tbody tr th:only-of-type {\n",
       "        vertical-align: middle;\n",
       "    }\n",
       "\n",
       "    .dataframe tbody tr th {\n",
       "        vertical-align: top;\n",
       "    }\n",
       "\n",
       "    .dataframe thead th {\n",
       "        text-align: right;\n",
       "    }\n",
       "</style>\n",
       "<table border=\"1\" class=\"dataframe\">\n",
       "  <thead>\n",
       "    <tr style=\"text-align: right;\">\n",
       "      <th></th>\n",
       "      <th></th>\n",
       "      <th>Outage_Duration_Mins</th>\n",
       "    </tr>\n",
       "    <tr>\n",
       "      <th>Climate</th>\n",
       "      <th>Cause</th>\n",
       "      <th></th>\n",
       "    </tr>\n",
       "  </thead>\n",
       "  <tbody>\n",
       "    <tr>\n",
       "      <th rowspan=\"7\" valign=\"top\">cold</th>\n",
       "      <th>equipment failure</th>\n",
       "      <td>182.0</td>\n",
       "    </tr>\n",
       "    <tr>\n",
       "      <th>fuel supply emergency</th>\n",
       "      <td>7965.0</td>\n",
       "    </tr>\n",
       "    <tr>\n",
       "      <th>intentional attack</th>\n",
       "      <td>92.0</td>\n",
       "    </tr>\n",
       "    <tr>\n",
       "      <th>islanding</th>\n",
       "      <td>193.0</td>\n",
       "    </tr>\n",
       "    <tr>\n",
       "      <th>public appeal</th>\n",
       "      <td>1092.5</td>\n",
       "    </tr>\n",
       "    <tr>\n",
       "      <th>severe weather</th>\n",
       "      <td>2319.5</td>\n",
       "    </tr>\n",
       "    <tr>\n",
       "      <th>system operability disruption</th>\n",
       "      <td>214.0</td>\n",
       "    </tr>\n",
       "    <tr>\n",
       "      <th rowspan=\"7\" valign=\"top\">normal</th>\n",
       "      <th>equipment failure</th>\n",
       "      <td>214.5</td>\n",
       "    </tr>\n",
       "    <tr>\n",
       "      <th>fuel supply emergency</th>\n",
       "      <td>2617.5</td>\n",
       "    </tr>\n",
       "    <tr>\n",
       "      <th>intentional attack</th>\n",
       "      <td>15.0</td>\n",
       "    </tr>\n",
       "    <tr>\n",
       "      <th>islanding</th>\n",
       "      <td>32.0</td>\n",
       "    </tr>\n",
       "    <tr>\n",
       "      <th>public appeal</th>\n",
       "      <td>495.0</td>\n",
       "    </tr>\n",
       "    <tr>\n",
       "      <th>severe weather</th>\n",
       "      <td>2511.0</td>\n",
       "    </tr>\n",
       "    <tr>\n",
       "      <th>system operability disruption</th>\n",
       "      <td>224.0</td>\n",
       "    </tr>\n",
       "    <tr>\n",
       "      <th rowspan=\"7\" valign=\"top\">warm</th>\n",
       "      <th>equipment failure</th>\n",
       "      <td>681.0</td>\n",
       "    </tr>\n",
       "    <tr>\n",
       "      <th>fuel supply emergency</th>\n",
       "      <td>18717.0</td>\n",
       "    </tr>\n",
       "    <tr>\n",
       "      <th>intentional attack</th>\n",
       "      <td>73.0</td>\n",
       "    </tr>\n",
       "    <tr>\n",
       "      <th>islanding</th>\n",
       "      <td>78.5</td>\n",
       "    </tr>\n",
       "    <tr>\n",
       "      <th>public appeal</th>\n",
       "      <td>300.0</td>\n",
       "    </tr>\n",
       "    <tr>\n",
       "      <th>severe weather</th>\n",
       "      <td>2520.0</td>\n",
       "    </tr>\n",
       "    <tr>\n",
       "      <th>system operability disruption</th>\n",
       "      <td>197.5</td>\n",
       "    </tr>\n",
       "  </tbody>\n",
       "</table>\n",
       "</div>"
      ],
      "text/plain": [
       "                                       Outage_Duration_Mins\n",
       "Climate Cause                                              \n",
       "cold    equipment failure                             182.0\n",
       "        fuel supply emergency                        7965.0\n",
       "        intentional attack                             92.0\n",
       "        islanding                                     193.0\n",
       "        public appeal                                1092.5\n",
       "        severe weather                               2319.5\n",
       "        system operability disruption                 214.0\n",
       "normal  equipment failure                             214.5\n",
       "        fuel supply emergency                        2617.5\n",
       "        intentional attack                             15.0\n",
       "        islanding                                      32.0\n",
       "        public appeal                                 495.0\n",
       "        severe weather                               2511.0\n",
       "        system operability disruption                 224.0\n",
       "warm    equipment failure                             681.0\n",
       "        fuel supply emergency                       18717.0\n",
       "        intentional attack                             73.0\n",
       "        islanding                                      78.5\n",
       "        public appeal                                 300.0\n",
       "        severe weather                               2520.0\n",
       "        system operability disruption                 197.5"
      ]
     },
     "execution_count": 32,
     "metadata": {},
     "output_type": "execute_result"
    }
   ],
   "source": [
    "grouped = df.groupby(by = ['Climate', 'Cause']).agg('median')[['Outage_Duration_Mins']]\n",
    "grouped"
   ]
  },
  {
   "cell_type": "code",
   "execution_count": 33,
   "metadata": {},
   "outputs": [
    {
     "data": {
      "text/html": [
       "<div>\n",
       "<style scoped>\n",
       "    .dataframe tbody tr th:only-of-type {\n",
       "        vertical-align: middle;\n",
       "    }\n",
       "\n",
       "    .dataframe tbody tr th {\n",
       "        vertical-align: top;\n",
       "    }\n",
       "\n",
       "    .dataframe thead th {\n",
       "        text-align: right;\n",
       "    }\n",
       "</style>\n",
       "<table border=\"1\" class=\"dataframe\">\n",
       "  <thead>\n",
       "    <tr style=\"text-align: right;\">\n",
       "      <th></th>\n",
       "      <th></th>\n",
       "      <th>Outage_Duration_Mins</th>\n",
       "    </tr>\n",
       "    <tr>\n",
       "      <th>Climate</th>\n",
       "      <th>Cause</th>\n",
       "      <th></th>\n",
       "    </tr>\n",
       "  </thead>\n",
       "  <tbody>\n",
       "    <tr>\n",
       "      <th>cold</th>\n",
       "      <th>fuel supply emergency</th>\n",
       "      <td>7965.0</td>\n",
       "    </tr>\n",
       "    <tr>\n",
       "      <th>normal</th>\n",
       "      <th>fuel supply emergency</th>\n",
       "      <td>2617.5</td>\n",
       "    </tr>\n",
       "    <tr>\n",
       "      <th>warm</th>\n",
       "      <th>fuel supply emergency</th>\n",
       "      <td>18717.0</td>\n",
       "    </tr>\n",
       "  </tbody>\n",
       "</table>\n",
       "</div>"
      ],
      "text/plain": [
       "                               Outage_Duration_Mins\n",
       "Climate Cause                                      \n",
       "cold    fuel supply emergency                7965.0\n",
       "normal  fuel supply emergency                2617.5\n",
       "warm    fuel supply emergency               18717.0"
      ]
     },
     "execution_count": 33,
     "metadata": {},
     "output_type": "execute_result"
    }
   ],
   "source": [
    "c_max = grouped.loc['cold']['Outage_Duration_Mins'].max()\n",
    "n_max = grouped.loc['normal']['Outage_Duration_Mins'].max()\n",
    "w_max = grouped.loc['warm']['Outage_Duration_Mins'].max()\n",
    "\n",
    "grouped[grouped['Outage_Duration_Mins'].isin({c_max, n_max, w_max})]"
   ]
  },
  {
   "cell_type": "markdown",
   "metadata": {},
   "source": [
    "When grouping by the Region and the Cause, we guess that either severe weather or fuel supply emergency is the largest influence on the power outage duration. \n",
    "\n",
    "When grouping the Climate and the Cause, we guess that fuel supply emergency is the largest predictor of the power outage duration.\n",
    "\n",
    "However, both of the guesses above, are purely from speculation, as we are just looking at the distributions and observations of the data. "
   ]
  },
  {
   "cell_type": "markdown",
   "metadata": {},
   "source": [
    "# Data Analysis & Results"
   ]
  },
  {
   "cell_type": "markdown",
   "metadata": {},
   "source": [
    "Performing OLS Regression, we begin with comparing the out_level and the Cause category. As mentioned earlier, we will be using the out_level (the log transformed power outage duration time) because the data is a more normal distribution and was grouped through calculations instead of manually. "
   ]
  },
  {
   "cell_type": "code",
   "execution_count": 34,
   "metadata": {},
   "outputs": [
    {
     "name": "stdout",
     "output_type": "stream",
     "text": [
      "                            OLS Regression Results                            \n",
      "==============================================================================\n",
      "Dep. Variable:              out_level   R-squared:                       0.402\n",
      "Model:                            OLS   Adj. R-squared:                  0.400\n",
      "Method:                 Least Squares   F-statistic:                     164.2\n",
      "Date:                Sat, 12 Dec 2020   Prob (F-statistic):          1.09e-159\n",
      "Time:                        12:01:02   Log-Likelihood:                -1774.8\n",
      "No. Observations:                1472   AIC:                             3564.\n",
      "Df Residuals:                    1465   BIC:                             3601.\n",
      "Df Model:                           6                                         \n",
      "Covariance Type:            nonrobust                                         \n",
      "=============================================================================================================\n",
      "                                                coef    std err          t      P>|t|      [0.025      0.975]\n",
      "-------------------------------------------------------------------------------------------------------------\n",
      "Intercept                                     1.8679      0.111     16.790      0.000       1.650       2.086\n",
      "C(Cause)[T.fuel supply emergency]             1.2402      0.174      7.148      0.000       0.900       1.581\n",
      "C(Cause)[T.intentional attack]               -0.5900      0.118     -4.986      0.000      -0.822      -0.358\n",
      "C(Cause)[T.islanding]                        -0.5043      0.165     -3.053      0.002      -0.828      -0.180\n",
      "C(Cause)[T.public appeal]                     0.4509      0.148      3.048      0.002       0.161       0.741\n",
      "C(Cause)[T.severe weather]                    0.8750      0.115      7.599      0.000       0.649       1.101\n",
      "C(Cause)[T.system operability disruption]    -0.0387      0.133     -0.290      0.771      -0.300       0.222\n",
      "==============================================================================\n",
      "Omnibus:                       31.092   Durbin-Watson:                   1.828\n",
      "Prob(Omnibus):                  0.000   Jarque-Bera (JB):               37.923\n",
      "Skew:                          -0.276   Prob(JB):                     5.82e-09\n",
      "Kurtosis:                       3.559   Cond. No.                         17.0\n",
      "==============================================================================\n",
      "\n",
      "Warnings:\n",
      "[1] Standard Errors assume that the covariance matrix of the errors is correctly specified.\n"
     ]
    }
   ],
   "source": [
    "c_outcome, c_predictors = patsy.dmatrices('out_level ~ C(Cause)', data = df)\n",
    "c_mod = sm.OLS(c_outcome, c_predictors)  \n",
    "c_res = c_mod.fit()\n",
    "print(c_res.summary())"
   ]
  },
  {
   "cell_type": "markdown",
   "metadata": {},
   "source": [
    "From analyzing the greatest median power outage duration times, we speculated that the cause of severe weather or fuel supply emergency would be the most significant predictors. To test this, we separate the 'Cause' column into just considering severe weather or fuel supply emergency and then compare it against the 'out_level' column. \n",
    "\n",
    "Out_level vs Severe Weather is below"
   ]
  },
  {
   "cell_type": "code",
   "execution_count": 35,
   "metadata": {},
   "outputs": [
    {
     "name": "stdout",
     "output_type": "stream",
     "text": [
      "                            OLS Regression Results                            \n",
      "==============================================================================\n",
      "Dep. Variable:              out_level   R-squared:                       0.105\n",
      "Model:                            OLS   Adj. R-squared:                  0.091\n",
      "Method:                 Least Squares   F-statistic:                     7.280\n",
      "Date:                Sat, 12 Dec 2020   Prob (F-statistic):           4.76e-10\n",
      "Time:                        12:01:02   Log-Likelihood:                -594.49\n",
      "No. Observations:                 566   AIC:                             1209.\n",
      "Df Residuals:                     556   BIC:                             1252.\n",
      "Df Model:                           9                                         \n",
      "Covariance Type:            nonrobust                                         \n",
      "========================================================================================================\n",
      "                                           coef    std err          t      P>|t|      [0.025      0.975]\n",
      "--------------------------------------------------------------------------------------------------------\n",
      "Intercept                                2.0000      0.349      5.732      0.000       1.315       2.685\n",
      "C(Cause_Detail)[T.flooding]              1.5000      0.493      3.040      0.002       0.531       2.469\n",
      "C(Cause_Detail)[T.heatwave]              0.3000      0.413      0.727      0.468      -0.511       1.111\n",
      "C(Cause_Detail)[T.hurricanes]            1.1096      0.358      3.096      0.002       0.406       1.814\n",
      "C(Cause_Detail)[T.snow/ice]              0.8286      0.354      2.341      0.020       0.133       1.524\n",
      "C(Cause_Detail)[T.thunder/lightning]     0.5833      0.353      1.653      0.099      -0.110       1.276\n",
      "C(Cause_Detail)[T.tornadoes]             0.6250      0.427      1.462      0.144      -0.214       1.464\n",
      "C(Cause_Detail)[T.uncontrolled loss]  3.553e-15      0.604   5.88e-15      1.000      -1.187       1.187\n",
      "C(Cause_Detail)[T.wildfire]              0.1304      0.378      0.345      0.730      -0.612       0.873\n",
      "C(Cause_Detail)[T.wind/rain]             0.7869      0.355      2.219      0.027       0.090       1.483\n",
      "==============================================================================\n",
      "Omnibus:                      108.443   Durbin-Watson:                   1.822\n",
      "Prob(Omnibus):                  0.000   Jarque-Bera (JB):              233.348\n",
      "Skew:                          -1.033   Prob(JB):                     2.13e-51\n",
      "Kurtosis:                       5.372   Cond. No.                         42.8\n",
      "==============================================================================\n",
      "\n",
      "Warnings:\n",
      "[1] Standard Errors assume that the covariance matrix of the errors is correctly specified.\n"
     ]
    }
   ],
   "source": [
    "weather = df[df['Cause'] == 'severe weather']\n",
    "we_outcome, we_predictors = patsy.dmatrices('out_level ~ C(Cause_Detail)', data = weather)\n",
    "we_mod = sm.OLS(we_outcome, we_predictors)  \n",
    "we_res = we_mod.fit()\n",
    "print(we_res.summary())"
   ]
  },
  {
   "cell_type": "markdown",
   "metadata": {},
   "source": [
    "Out_level vs Fuel Supply Emergency is below"
   ]
  },
  {
   "cell_type": "code",
   "execution_count": 36,
   "metadata": {},
   "outputs": [
    {
     "name": "stdout",
     "output_type": "stream",
     "text": [
      "                            OLS Regression Results                            \n",
      "==============================================================================\n",
      "Dep. Variable:              out_level   R-squared:                       0.535\n",
      "Model:                            OLS   Adj. R-squared:                  0.490\n",
      "Method:                 Least Squares   F-statistic:                     12.06\n",
      "Date:                Sat, 12 Dec 2020   Prob (F-statistic):           0.000325\n",
      "Time:                        12:01:02   Log-Likelihood:                -25.759\n",
      "No. Observations:                  24   AIC:                             57.52\n",
      "Df Residuals:                      21   BIC:                             61.05\n",
      "Df Model:                           2                                         \n",
      "Covariance Type:            nonrobust                                         \n",
      "==================================================================================================\n",
      "                                     coef    std err          t      P>|t|      [0.025      0.975]\n",
      "--------------------------------------------------------------------------------------------------\n",
      "Intercept                          3.7692      0.210     17.962      0.000       3.333       4.206\n",
      "C(Cause_Detail)[T.hydro]          -1.7692      0.433     -4.090      0.001      -2.669      -0.870\n",
      "C(Cause_Detail)[T.natural gas]    -1.3407      0.355     -3.780      0.001      -2.078      -0.603\n",
      "==============================================================================\n",
      "Omnibus:                        3.939   Durbin-Watson:                   1.778\n",
      "Prob(Omnibus):                  0.139   Jarque-Bera (JB):                2.206\n",
      "Skew:                          -0.660   Prob(JB):                        0.332\n",
      "Kurtosis:                       3.682   Cond. No.                         3.30\n",
      "==============================================================================\n",
      "\n",
      "Warnings:\n",
      "[1] Standard Errors assume that the covariance matrix of the errors is correctly specified.\n"
     ]
    }
   ],
   "source": [
    "supply = df[df['Cause'] == 'fuel supply emergency']\n",
    "su_outcome, su_predictors = patsy.dmatrices('out_level ~ C(Cause_Detail)', data = supply)\n",
    "su_mod = sm.OLS(su_outcome, su_predictors)  \n",
    "su_res = su_mod.fit()\n",
    "print(su_res.summary())"
   ]
  },
  {
   "cell_type": "markdown",
   "metadata": {},
   "source": [
    "Using an alpha of 0.01, in the last model, we see that only the fuel supply emergency and severe weather cause categories are significant predictors when compared against equipment failure. This confirms what was predicted when we had just looked at the largest medians in each cause category. \n",
    "\n",
    "We see that in the severe weather cause category that flooding and heatwaves are the only significant predictors when comparing to earthquakes. Additionally, we see that when comparing severe weather and power outage duration, we get an R-squared value of 0.105. \n",
    "\n",
    "Continuing using an alpha of 0.01, we see that in the fuel supply emergency category, both hydro or natural gas are significant predictors when comparing to coal. The R-squared is 0.535. \n",
    "\n",
    "When comparing the two cause categories, severe weather and fuel supply emergency, we see that fuel supply emergency does a better job of explaining the variance throughout the data with an R-squared value of 0.535 vs 0.105. This is not at all what we thought originally. We did not think that fuel supply emergency would pose a significant problem because we had hypothesized that electric companies would always take into account the energy supply and always have a backup. "
   ]
  },
  {
   "cell_type": "markdown",
   "metadata": {},
   "source": [
    "Because we want to figure out which predictor, 'Region', 'Climate', or 'Cause' is the greatest predictor in power outage duration, we need to compare how well each individual predictor does against the data and then collectively compare the three. \n",
    "\n",
    "Below, we have performed three OLS Regression models of the 'out_level' column vs the 'Cause Detail' separately. "
   ]
  },
  {
   "cell_type": "code",
   "execution_count": 37,
   "metadata": {},
   "outputs": [
    {
     "name": "stdout",
     "output_type": "stream",
     "text": [
      "                            OLS Regression Results                            \n",
      "==============================================================================\n",
      "Dep. Variable:              out_level   R-squared:                       0.459\n",
      "Model:                            OLS   Adj. R-squared:                  0.451\n",
      "Method:                 Least Squares   F-statistic:                     57.07\n",
      "Date:                Sat, 12 Dec 2020   Prob (F-statistic):          3.56e-123\n",
      "Time:                        12:01:03   Log-Likelihood:                -1213.3\n",
      "No. Observations:                1024   AIC:                             2459.\n",
      "Df Residuals:                    1008   BIC:                             2538.\n",
      "Df Model:                          15                                         \n",
      "Covariance Type:            nonrobust                                         \n",
      "============================================================================================================\n",
      "                                               coef    std err          t      P>|t|      [0.025      0.975]\n",
      "------------------------------------------------------------------------------------------------------------\n",
      "Intercept                                    1.2717      0.042     30.127      0.000       1.189       1.355\n",
      "C(Cause_Detail)[T.coal]                      2.4975      0.225     11.090      0.000       2.056       2.939\n",
      "C(Cause_Detail)[T.earthquake]                0.7283      0.401      1.816      0.070      -0.059       1.515\n",
      "C(Cause_Detail)[T.flooding]                  2.2283      0.401      5.557      0.000       1.441       3.015\n",
      "C(Cause_Detail)[T.heatwave]                  1.0283      0.256      4.021      0.000       0.526       1.530\n",
      "C(Cause_Detail)[T.hurricanes]                1.8379      0.102     17.940      0.000       1.637       2.039\n",
      "C(Cause_Detail)[T.hydro]                     0.7283      0.401      1.816      0.070      -0.059       1.515\n",
      "C(Cause_Detail)[T.loadshed/transmission]     0.5616      0.328      1.711      0.087      -0.083       1.206\n",
      "C(Cause_Detail)[T.natural gas]               1.1569      0.304      3.801      0.000       0.560       1.754\n",
      "C(Cause_Detail)[T.snow/ice]                  1.5569      0.080     19.575      0.000       1.401       1.713\n",
      "C(Cause_Detail)[T.soft/hard ware]            0.6266      0.112      5.590      0.000       0.407       0.847\n",
      "C(Cause_Detail)[T.thunder/lightning]         1.3116      0.073     17.990      0.000       1.169       1.455\n",
      "C(Cause_Detail)[T.tornadoes]                 1.3533      0.285      4.746      0.000       0.794       1.913\n",
      "C(Cause_Detail)[T.uncontrolled loss]         0.2283      0.217      1.051      0.294      -0.198       0.655\n",
      "C(Cause_Detail)[T.wildfire]                  0.8587      0.172      5.005      0.000       0.522       1.195\n",
      "C(Cause_Detail)[T.wind/rain]                 1.5152      0.084     18.115      0.000       1.351       1.679\n",
      "==============================================================================\n",
      "Omnibus:                       18.670   Durbin-Watson:                   1.839\n",
      "Prob(Omnibus):                  0.000   Jarque-Bera (JB):               23.928\n",
      "Skew:                          -0.222   Prob(JB):                     6.37e-06\n",
      "Kurtosis:                       3.603   Cond. No.                         17.0\n",
      "==============================================================================\n",
      "\n",
      "Warnings:\n",
      "[1] Standard Errors assume that the covariance matrix of the errors is correctly specified.\n"
     ]
    }
   ],
   "source": [
    "cd_outcome, cd_predictors = patsy.dmatrices('out_level ~ C(Cause_Detail)', data = df)\n",
    "cd_mod = sm.OLS(cd_outcome, cd_predictors)  \n",
    "cd_res = cd_mod.fit()\n",
    "print(cd_res.summary())"
   ]
  },
  {
   "cell_type": "markdown",
   "metadata": {},
   "source": [
    "The OLS Regression Results above show that the R-squared is 0.459. This means that using just the 'Cause_Detail' category, it explains 45.9% of the variance in the data. "
   ]
  },
  {
   "cell_type": "markdown",
   "metadata": {},
   "source": [
    "'Out_level\" vs 'Climate' is below"
   ]
  },
  {
   "cell_type": "code",
   "execution_count": 38,
   "metadata": {},
   "outputs": [
    {
     "name": "stdout",
     "output_type": "stream",
     "text": [
      "                            OLS Regression Results                            \n",
      "==============================================================================\n",
      "Dep. Variable:              out_level   R-squared:                       0.005\n",
      "Model:                            OLS   Adj. R-squared:                  0.003\n",
      "Method:                 Least Squares   F-statistic:                     3.344\n",
      "Date:                Sat, 12 Dec 2020   Prob (F-statistic):             0.0356\n",
      "Time:                        12:01:03   Log-Likelihood:                -2150.0\n",
      "No. Observations:                1472   AIC:                             4306.\n",
      "Df Residuals:                    1469   BIC:                             4322.\n",
      "Df Model:                           2                                         \n",
      "Covariance Type:            nonrobust                                         \n",
      "========================================================================================\n",
      "                           coef    std err          t      P>|t|      [0.025      0.975]\n",
      "----------------------------------------------------------------------------------------\n",
      "Intercept                2.2549      0.049     46.491      0.000       2.160       2.350\n",
      "C(Climate)[T.normal]    -0.1437      0.062     -2.318      0.021      -0.265      -0.022\n",
      "C(Climate)[T.warm]      -0.0084      0.079     -0.107      0.915      -0.163       0.147\n",
      "==============================================================================\n",
      "Omnibus:                       74.513   Durbin-Watson:                   1.499\n",
      "Prob(Omnibus):                  0.000   Jarque-Bera (JB):               67.902\n",
      "Skew:                          -0.466   Prob(JB):                     1.80e-15\n",
      "Kurtosis:                       2.511   Cond. No.                         4.07\n",
      "==============================================================================\n",
      "\n",
      "Warnings:\n",
      "[1] Standard Errors assume that the covariance matrix of the errors is correctly specified.\n"
     ]
    }
   ],
   "source": [
    "cl_outcome, cl_predictors = patsy.dmatrices('out_level ~ C(Climate)', data = df)\n",
    "cl_mod = sm.OLS(cl_outcome, cl_predictors)  \n",
    "cl_res = cl_mod.fit()\n",
    "print(cl_res.summary())"
   ]
  },
  {
   "cell_type": "markdown",
   "metadata": {},
   "source": [
    "We see above, that the R-squared value is 0.005, meaning that just with the Climate, it does not explain the variance of the data very well"
   ]
  },
  {
   "cell_type": "markdown",
   "metadata": {},
   "source": [
    "'Out_level' vs 'Region' is below"
   ]
  },
  {
   "cell_type": "code",
   "execution_count": 39,
   "metadata": {},
   "outputs": [
    {
     "name": "stdout",
     "output_type": "stream",
     "text": [
      "                            OLS Regression Results                            \n",
      "==============================================================================\n",
      "Dep. Variable:              out_level   R-squared:                       0.085\n",
      "Model:                            OLS   Adj. R-squared:                  0.081\n",
      "Method:                 Least Squares   F-statistic:                     22.75\n",
      "Date:                Sat, 12 Dec 2020   Prob (F-statistic):           9.12e-26\n",
      "Time:                        12:01:03   Log-Likelihood:                -2087.8\n",
      "No. Observations:                1472   AIC:                             4190.\n",
      "Df Residuals:                    1465   BIC:                             4227.\n",
      "Df Model:                           6                                         \n",
      "Covariance Type:            nonrobust                                         \n",
      "==========================================================================================\n",
      "                             coef    std err          t      P>|t|      [0.025      0.975]\n",
      "------------------------------------------------------------------------------------------\n",
      "Intercept                  2.4651      0.054     45.640      0.000       2.359       2.571\n",
      "C(Region)[T.Northeast]    -0.3835      0.076     -5.017      0.000      -0.533      -0.234\n",
      "C(Region)[T.Northwest]    -0.6864      0.106     -6.503      0.000      -0.893      -0.479\n",
      "C(Region)[T.South]        -0.0458      0.087     -0.527      0.598      -0.216       0.125\n",
      "C(Region)[T.Southeast]     0.0016      0.098      0.016      0.987      -0.191       0.194\n",
      "C(Region)[T.Southwest]    -1.0743      0.120     -8.936      0.000      -1.310      -0.838\n",
      "C(Region)[T.West]         -0.4699      0.088     -5.348      0.000      -0.642      -0.298\n",
      "==============================================================================\n",
      "Omnibus:                       49.363   Durbin-Watson:                   1.630\n",
      "Prob(Omnibus):                  0.000   Jarque-Bera (JB):               50.277\n",
      "Skew:                          -0.424   Prob(JB):                     1.21e-11\n",
      "Kurtosis:                       2.684   Cond. No.                         6.62\n",
      "==============================================================================\n",
      "\n",
      "Warnings:\n",
      "[1] Standard Errors assume that the covariance matrix of the errors is correctly specified.\n"
     ]
    }
   ],
   "source": [
    "r_outcome, r_predictors = patsy.dmatrices('out_level ~ C(Region)', data = df)\n",
    "r_mod = sm.OLS(r_outcome, r_predictors)  \n",
    "r_res = r_mod.fit()\n",
    "print(r_res.summary())"
   ]
  },
  {
   "cell_type": "markdown",
   "metadata": {},
   "source": [
    "Similarly, we see above that just the 'Region' and the 'out_level' also have a small R-squared value, meaning that with just the Region it does not fit the data very well"
   ]
  },
  {
   "cell_type": "markdown",
   "metadata": {},
   "source": [
    "After comparing the three predictors separately, we combine the three categories and see how well they all do at predicting the data."
   ]
  },
  {
   "cell_type": "code",
   "execution_count": 40,
   "metadata": {},
   "outputs": [
    {
     "name": "stdout",
     "output_type": "stream",
     "text": [
      "                            OLS Regression Results                            \n",
      "==============================================================================\n",
      "Dep. Variable:              out_level   R-squared:                       0.411\n",
      "Model:                            OLS   Adj. R-squared:                  0.405\n",
      "Method:                 Least Squares   F-statistic:                     72.49\n",
      "Date:                Sat, 12 Dec 2020   Prob (F-statistic):          6.03e-156\n",
      "Time:                        12:01:04   Log-Likelihood:                -1764.3\n",
      "No. Observations:                1472   AIC:                             3559.\n",
      "Df Residuals:                    1457   BIC:                             3638.\n",
      "Df Model:                          14                                         \n",
      "Covariance Type:            nonrobust                                         \n",
      "=============================================================================================================\n",
      "                                                coef    std err          t      P>|t|      [0.025      0.975]\n",
      "-------------------------------------------------------------------------------------------------------------\n",
      "Intercept                                     1.9985      0.124     16.139      0.000       1.756       2.241\n",
      "C(Region)[T.Northeast]                       -0.1253      0.063     -1.996      0.046      -0.248      -0.002\n",
      "C(Region)[T.Northwest]                        0.0544      0.090      0.603      0.546      -0.123       0.231\n",
      "C(Region)[T.South]                            0.0463      0.073      0.632      0.527      -0.097       0.190\n",
      "C(Region)[T.Southeast]                       -0.1163      0.080     -1.463      0.144      -0.272       0.040\n",
      "C(Region)[T.Southwest]                       -0.2536      0.102     -2.487      0.013      -0.454      -0.054\n",
      "C(Region)[T.West]                            -0.1670      0.075     -2.224      0.026      -0.314      -0.020\n",
      "C(Climate)[T.normal]                         -0.0687      0.048     -1.423      0.155      -0.163       0.026\n",
      "C(Climate)[T.warm]                           -0.0097      0.062     -0.157      0.875      -0.131       0.112\n",
      "C(Cause)[T.fuel supply emergency]             1.2296      0.174      7.085      0.000       0.889       1.570\n",
      "C(Cause)[T.intentional attack]               -0.6009      0.121     -4.963      0.000      -0.838      -0.363\n",
      "C(Cause)[T.islanding]                        -0.4966      0.166     -2.998      0.003      -0.822      -0.172\n",
      "C(Cause)[T.public appeal]                     0.3674      0.150      2.444      0.015       0.073       0.662\n",
      "C(Cause)[T.severe weather]                    0.8376      0.117      7.176      0.000       0.609       1.067\n",
      "C(Cause)[T.system operability disruption]    -0.0447      0.133     -0.337      0.736      -0.305       0.216\n",
      "==============================================================================\n",
      "Omnibus:                       30.657   Durbin-Watson:                   1.842\n",
      "Prob(Omnibus):                  0.000   Jarque-Bera (JB):               37.754\n",
      "Skew:                          -0.270   Prob(JB):                     6.34e-09\n",
      "Kurtosis:                       3.569   Cond. No.                         19.6\n",
      "==============================================================================\n",
      "\n",
      "Warnings:\n",
      "[1] Standard Errors assume that the covariance matrix of the errors is correctly specified.\n"
     ]
    }
   ],
   "source": [
    "outcome, predictors = patsy.dmatrices('out_level ~ C(Region) + C(Climate) + C(Cause)', data = df)\n",
    "mod = sm.OLS(outcome, predictors)  \n",
    "res = mod.fit()\n",
    "print(res.summary())"
   ]
  },
  {
   "cell_type": "markdown",
   "metadata": {},
   "source": [
    "From the three different OLS models generated above, we see that both the 'Region' and 'Climate' columns, alone, do not fit the data very well as both R-squared values are very close to 0. \n",
    "\n",
    "Additionally, from each OLS model separately, we can see which categories are significant and which are not. In the OLS model directly above, of 'out_level' vs 'Region', we see that when compared to the 'Central' region, all except the 'South' and 'Southeast' regions are not significant predictors with small p-values. This is not surprising because we had also thought that Region would play a small role in power outage duration because, in smaller rural areas, it may take longer times to respond and fix a power outage.\n",
    "\n",
    "Comparing the OLS model of 'Region', 'Climate', and 'Cause', the 'Cause' and 'Cause_Detail' columns have the greatest R-squared values at 0.4 and 0.459 respectively. In the last OLS model, combining all three categories, we see that all of the 'Cause' categories have a p-value less than an alpha of 0.01, with the exception of the 'public appeal' and 'system operability disruption'. The 'public appeal' category has a p-value of 0.015 meaning that it is not that far from being significant and the 'system operability disruption' category has a high p-value of 0.736. This could possibly mean that there may be many outliers present in this category causing it to not be a significant predictor. \n",
    "\n",
    "When compared against the other attributes of 'Region' and 'Climate', we see that the 'Cause' category is really the only attribute that is a significant predictor for power outage duration. This is in line with our hypothesis that out of the three, 'Cause' will be the most significant."
   ]
  },
  {
   "cell_type": "markdown",
   "metadata": {},
   "source": [
    "From above, we had found that the 'Cause' category is the most significant predictor, however, we are still choosing to use the 'Region', 'Climate', and 'Cause' as inputs to our regression model, because we believe that even though they may not add much information to the predictor, they will still add a little bit of information. Additionally, we did not include the 'Cause_Detail' as a predictor because it had contained NaN values and we did not want to drop these observations just to add them into the predictor because by dropping the 400+ observations, we would also be dropping 400+ observations with valid 'Region', 'Climate', and 'Cause' values."
   ]
  },
  {
   "cell_type": "code",
   "execution_count": 41,
   "metadata": {},
   "outputs": [],
   "source": [
    "#Shuffling the data so there is no bias in the prediction\n",
    "\n",
    "shuffled_df = df.sample(frac = 1) "
   ]
  },
  {
   "cell_type": "code",
   "execution_count": 42,
   "metadata": {},
   "outputs": [
    {
     "data": {
      "text/plain": [
       "429.9801488833747"
      ]
     },
     "execution_count": 42,
     "metadata": {},
     "output_type": "execute_result"
    }
   ],
   "source": [
    "df2 = shuffled_df[['Region','Climate','Cause','Outage_Duration_Mins', 'Severity', 'out_level']]\n",
    "sum(df2[df2['Cause']=='intentional attack']['Outage_Duration_Mins'])/len(df2[df2['Cause']=='intentional attack']['Outage_Duration_Mins'])"
   ]
  },
  {
   "cell_type": "code",
   "execution_count": 43,
   "metadata": {},
   "outputs": [
    {
     "data": {
      "text/plain": [
       "1177"
      ]
     },
     "execution_count": 43,
     "metadata": {},
     "output_type": "execute_result"
    }
   ],
   "source": [
    "#Splitting the data into training and testing data\n",
    "\n",
    "num_train = int(len(df2) * 0.8)\n",
    "num_test = len(df2) - num_train\n",
    "num_train"
   ]
  },
  {
   "cell_type": "markdown",
   "metadata": {},
   "source": [
    "In the cell below, we are building the model. Because our predictors are categorical variables, we use one hot encoding and use the resulting matrix as features for the predictor. "
   ]
  },
  {
   "cell_type": "code",
   "execution_count": 44,
   "metadata": {},
   "outputs": [],
   "source": [
    "cats = Pipeline([\n",
    "    ('ohe', OneHotEncoder(sparse=False)), \n",
    "    ('pca', PCA(svd_solver='full'))\n",
    "])\n",
    "catcols = ['Region','Climate','Cause']\n",
    "ct = ColumnTransformer([('cat', cats, catcols)])\n",
    "pl = Pipeline([('feats', ct), ('lr', LinearRegression())])"
   ]
  },
  {
   "cell_type": "markdown",
   "metadata": {},
   "source": [
    "After building the model, we need to fit the Linear Regression Model. We fit the model with only the training data, that is 80% of the data that we have which is 1177 observations, saving the last 20% as validation data."
   ]
  },
  {
   "cell_type": "code",
   "execution_count": 45,
   "metadata": {},
   "outputs": [
    {
     "data": {
      "text/plain": [
       "Pipeline(memory=None,\n",
       "         steps=[('feats',\n",
       "                 ColumnTransformer(n_jobs=None, remainder='drop',\n",
       "                                   sparse_threshold=0.3,\n",
       "                                   transformer_weights=None,\n",
       "                                   transformers=[('cat',\n",
       "                                                  Pipeline(memory=None,\n",
       "                                                           steps=[('ohe',\n",
       "                                                                   OneHotEncoder(categories='auto',\n",
       "                                                                                 drop=None,\n",
       "                                                                                 dtype=<class 'numpy.float64'>,\n",
       "                                                                                 handle_unknown='error',\n",
       "                                                                                 sparse=False)),\n",
       "                                                                  ('pca',\n",
       "                                                                   PCA(copy=True,\n",
       "                                                                       iterated_power='auto',\n",
       "                                                                       n_components=None,\n",
       "                                                                       random_state=None,\n",
       "                                                                       svd_solver='full',\n",
       "                                                                       tol=0.0,\n",
       "                                                                       whiten=False))],\n",
       "                                                           verbose=False),\n",
       "                                                  ['Region', 'Climate',\n",
       "                                                   'Cause'])],\n",
       "                                   verbose=False)),\n",
       "                ('lr',\n",
       "                 LinearRegression(copy_X=True, fit_intercept=True, n_jobs=None,\n",
       "                                  normalize=False))],\n",
       "         verbose=False)"
      ]
     },
     "execution_count": 45,
     "metadata": {},
     "output_type": "execute_result"
    }
   ],
   "source": [
    "#Fitting the model only with the training data\n",
    "\n",
    "pl.fit(df2.drop('Outage_Duration_Mins', axis=1)[:num_train], shuffled_df['Outage_Duration_Mins'][:num_train])"
   ]
  },
  {
   "cell_type": "code",
   "execution_count": 46,
   "metadata": {},
   "outputs": [],
   "source": [
    "#Then predict power outage duration using the training and testing data\n",
    "\n",
    "train = pl.predict(df2.drop('Outage_Duration_Mins',axis=1)[:num_train])\n",
    "test = pl.predict(df2.drop('Outage_Duration_Mins',axis=1)[num_train:])"
   ]
  },
  {
   "cell_type": "code",
   "execution_count": 47,
   "metadata": {},
   "outputs": [
    {
     "name": "stdout",
     "output_type": "stream",
     "text": [
      "              precision    recall  f1-score   support\n",
      "\n",
      "           1       0.21      0.41      0.28       149\n",
      "           2       0.15      0.21      0.17       184\n",
      "           3       0.12      0.13      0.13       171\n",
      "           4       0.84      0.38      0.53       633\n",
      "           5       0.10      0.42      0.17        40\n",
      "\n",
      "    accuracy                           0.32      1177\n",
      "   macro avg       0.29      0.31      0.25      1177\n",
      "weighted avg       0.52      0.32      0.37      1177\n",
      "\n"
     ]
    }
   ],
   "source": [
    "#Grouping the predicted power outage duration into severity levels and comparing it with the original data\n",
    "#Training data\n",
    "train_predict = (pd.Series(train)).apply(assign_severity)\n",
    "actual = shuffled_df['Severity'][:num_train].reset_index()['Severity']\n",
    "print(classification_report(train_predict, actual))"
   ]
  },
  {
   "cell_type": "code",
   "execution_count": 48,
   "metadata": {},
   "outputs": [
    {
     "name": "stdout",
     "output_type": "stream",
     "text": [
      "              precision    recall  f1-score   support\n",
      "\n",
      "           1       0.23      0.35      0.28        48\n",
      "           2       0.17      0.24      0.20        46\n",
      "           3       0.15      0.15      0.15        48\n",
      "           4       0.66      0.29      0.40       146\n",
      "           5       0.07      0.43      0.12         7\n",
      "\n",
      "    accuracy                           0.27       295\n",
      "   macro avg       0.25      0.29      0.23       295\n",
      "weighted avg       0.41      0.27      0.30       295\n",
      "\n"
     ]
    }
   ],
   "source": [
    "#Grouping the predicted power outage duration into severity levels and comparing it with the original data\n",
    "#Testing data\n",
    "test_predict = (pd.Series(test)).apply(assign_severity)\n",
    "validate = shuffled_df['Severity'][num_train:].reset_index()['Severity']\n",
    "print(classification_report(test_predict, validate))"
   ]
  },
  {
   "cell_type": "markdown",
   "metadata": {},
   "source": [
    "We see that from the two classification reports above, that when predicting the severity level, using 80% of the data as training data to fit the model, we had gotten an accuracy of around 33% for the training data and around 31% accuracy for the test data when testing whether we would be able to predict the severity level. "
   ]
  },
  {
   "cell_type": "code",
   "execution_count": 49,
   "metadata": {},
   "outputs": [
    {
     "name": "stdout",
     "output_type": "stream",
     "text": [
      "              precision    recall  f1-score   support\n",
      "\n",
      "           0       0.00      0.00      0.00         0\n",
      "           1       0.22      0.29      0.25       149\n",
      "           2       0.22      0.29      0.25       261\n",
      "           3       0.87      0.55      0.68       736\n",
      "           4       0.16      0.39      0.23        31\n",
      "           5       0.00      0.00      0.00         0\n",
      "\n",
      "    accuracy                           0.46      1177\n",
      "   macro avg       0.25      0.25      0.23      1177\n",
      "weighted avg       0.63      0.46      0.52      1177\n",
      "\n"
     ]
    },
    {
     "name": "stderr",
     "output_type": "stream",
     "text": [
      "/opt/conda/lib/python3.7/site-packages/sklearn/metrics/_classification.py:1272: UndefinedMetricWarning: Recall and F-score are ill-defined and being set to 0.0 in labels with no true samples. Use `zero_division` parameter to control this behavior.\n",
      "  _warn_prf(average, modifier, msg_start, len(result))\n"
     ]
    }
   ],
   "source": [
    "#Log transforming the predicted power outage duration and comparing it with the original data\n",
    "#Training data\n",
    "train_predict = (pd.Series(train)).apply(change)\n",
    "actual = shuffled_df['out_level'][:num_train].reset_index()['out_level']\n",
    "print(classification_report(train_predict, actual))"
   ]
  },
  {
   "cell_type": "code",
   "execution_count": 50,
   "metadata": {},
   "outputs": [
    {
     "name": "stdout",
     "output_type": "stream",
     "text": [
      "              precision    recall  f1-score   support\n",
      "\n",
      "           0       0.00      0.00      0.00         0\n",
      "           1       0.22      0.23      0.22        48\n",
      "           2       0.22      0.27      0.25        73\n",
      "           3       0.80      0.57      0.67       168\n",
      "           4       0.27      0.50      0.35         6\n",
      "\n",
      "    accuracy                           0.44       295\n",
      "   macro avg       0.30      0.31      0.30       295\n",
      "weighted avg       0.55      0.44      0.48       295\n",
      "\n"
     ]
    }
   ],
   "source": [
    "#Log transforming the predicted power outage duration and comparing it with the original data\n",
    "#Testing data\n",
    "test_predict = (pd.Series(test)).apply(change)\n",
    "validate = shuffled_df['out_level'][num_train:].reset_index()['out_level']\n",
    "print(classification_report(test_predict, validate))"
   ]
  },
  {
   "cell_type": "markdown",
   "metadata": {},
   "source": [
    "However, when testing whether we would be able to predict the log transformed duration time, still using 80% of the data as training data to fit the model, we had gotten an accuracy of around 45% for the training data and around 43% accuracy for the test data.  "
   ]
  },
  {
   "cell_type": "markdown",
   "metadata": {},
   "source": [
    "Summarizing the results: \n",
    "\n",
    "Severity Level Prediction: (accuracy scores)\n",
    "\n",
    "    Training data: ~33%\n",
    "    \n",
    "    Test data: ~30%\n",
    "    \n",
    "Out Level Prediction: (accuracy scores)\n",
    "\n",
    "    Training data: ~45%\n",
    "    \n",
    "    Test data: ~43%\n",
    "\n",
    "We see that predicting the out_level (the power outage duration log transformed) was more accurate. We believe this because when we had transformed the data, we had mathematically grouped the observations. However, with the severity level, we had grouped them manually, based on what we had considered being a particular severity level. "
   ]
  },
  {
   "cell_type": "markdown",
   "metadata": {},
   "source": [
    "# Ethics & Privacy"
   ]
  },
  {
   "cell_type": "markdown",
   "metadata": {},
   "source": [
    "The data we used in this project is made available to the public with no additional information on restrictions of use from the Purdue website. This dataset consists of power outage information with many variables, such as outage duration and the cause. In terms of data privacy, in publicly made datasets, personally identifiable information should have been already removed. We took this into consideration and made sure to check the data to ensure that all private information was removed. The data does not consist of any personally identifiable information (PII) as we are focusing on analyzing what predictors and whether or not we can use these predictors to determine the severity level and duration of a power outage. The observations do include a location, however, the location is a broad area, being the state that the outage had occurred in, not the specific coordinates or neighborhood. \n",
    "\n",
    "As for ethics, we are using data from the years 2000 - 2016. This does affect our study a little bit because infrastructure and technology are advancing every day allowing for the continuous use of electricity. We are aware that this is a limitation in our data for being unable to account for infrastructure advances that may increase and decrease the flow of electricity. Ethical challenges arise when opinions on how to utilize this application diverge. Because this application analyzes and predicts the power outage duration when given an input of the 'Region', 'Climate', and 'Cause', it should not be used to exploit areas with a longer power outage and taking advantage of residents in that state. \n",
    "\n",
    "Because we are not given the information on who had collected the data, there may have been bias in the data. For instance, if a specific company had collected their data, they are more likely to modify the data in their particular region than if the US Department of Energy had collected the data. We did our best to make sure there weren't any biases. We had looked at the distribution of the data with respect to 'Region'. We had thought this was the best way to see if there were any biases present in our data because an electric company is responsible for a particular area, specifically the area they are located in, if they were to tamper with data, they would most likely tamper with data in their own area. Therefore, by looking at the data with respect to location, we are able to visualize which data points in a particular state or region was abnormal and may be considered outliers. In the plot of 'Region' vs 'Out_level, fortunately, we did not find any abnormal points and any of the outliers that were identified were only related to that specific observation. "
   ]
  },
  {
   "cell_type": "markdown",
   "metadata": {},
   "source": [
    "# Conclusion & Discussion"
   ]
  },
  {
   "cell_type": "markdown",
   "metadata": {},
   "source": [
    "#### Conclusion\n",
    "Parts of our hypothesis were correct and parts were incorrect. The first part of our hypothesis stating that Cause would be the most significant predictor was correct, however, which Cause we be the most significant was incorrect. We had believed that with uncontrollable weather patterns and unforeseen disasters, severe weather would be the most significant predictor for predicting power outage duration times. However, we had found out that the severe weather cause was second to that of fuel supply emergency. Fuel supply emergency is when the electric company has run out of electricity to supply to its customers. This was extremely surprising to us because we had thought that an electric company would carefully track its supply and have backups in case any resources had run out. \n",
    "\n",
    "For the second part of our hypothesis, we had believed that our prediction model would have an accuracy of hopefully 60% or more. However, in the cells above, we clearly see that we were extremely incorrect. We had implemented two models. One predicting the severity level and one predicting the log transformed duration times. For severity level, we had manually grouped each observation. We had decided on the range for five severity levels without looking at the data. This resulted in five groups with between 200-300 observations in each group. As for the log transformed outage duration times, we had taken the log of the duration and then divided it by the log(10). By doing this, our data was transformed into a more normal distribution than the raw duration time or the severity level. \n",
    "\n",
    "For both predictions, we had used Linear Regression. For predicting severity level, the training data had gotten around a 33% accuracy while the testing data had gotten around a 30% accuracy. We see that this is almost half of what we were hoping to achieve. For predicting the log transformed duration time, the training data had gotten around a 45% accuracy while the testing data had gotten around 43%. While this was not as high as we would like it to be, it was still better than when predicting the severity level. \n",
    "\n",
    "We believe that predicting the log transformed duration time was more accurate than the severity level because the log transformed duration time was in a more normal distribution than the severity level was and that the log transformed duration time was grouped based on calculations while the severity level was decided by us and what we had thought to be the different levels of severity. \n",
    "\n",
    "As for our results from this project, we had found that it was not severe weather that was the most significant predictor, but instead, fuel supply emergency had a bigger impact. Additionally, because our accuracy was only around 43%, we cannot vouch for the success of predicting the severity level using the 'region', 'climate', and the 'cause'. Nevertheless, we firmly believe that if we had a bigger dataset, that our model would achieve higher accuracy and that it would be successful in predicting the severity level with an accuracy greater than 60%. \n",
    "\n",
    "#### Discussion and Limitations\n",
    "For our project, we had a few limitations. The data that we had found was only from January 2000 to July 2016. This is a limitation because it does not include anything after July 2016 and with the world advancing in technology and infrastructure every day, the causes of power outage change every day. Because of this limitation, our analysis and predictor may not be as accurate as if we had implemented data from previous years up to this year, 2020. For instance, we had found that fuel supply emergency was the most significant predictor for power outage duration, however, possibly in the recent 4 years, electric companies had taken enlargened their supply and kept better track of their resources, decreasing the influence fuel supply emergency has on a power outage.\n",
    "\n",
    "Another limitation that we had come across was the number of observations used in the analysis and predictor. The ideal data set that we had in mind would have had around 5000+ observations with numerous attributes, however, the data set we had found set had originally, 1534 observations. After cleaning the data and dropping the missing data, there were 1472 observations. Due to the small number of observations, our prediction model is not as general as we would like it to be because the more data we are able to train our model with, the more accurate it becomes. We had attempted to remedy this limitation by adding additional data sets. However, combining other data sets resulted in new problems. We were unable to find a data set with similar attributes of 'Region', 'Climate', and etc. Additionally, data sets that did have similar attributes had grouped each observation differently. For instance, a data set may have only had 5 different region categories (North, South, East, West, Central) while our original data set had regions, such as northwest, northeast as well. Because we didn't want to introduce bias by grouping combining or splitting up categories in our project, we ultimately choose to use one data set."
   ]
  },
  {
   "cell_type": "markdown",
   "metadata": {},
   "source": [
    "# Team Contributions"
   ]
  },
  {
   "cell_type": "markdown",
   "metadata": {},
   "source": [
    "- Kaishun Lin      - Research question, data set, data analysis and model, proofreading\n",
    "- Yuheng Yang      - Data analysis and model, conclusion & discussion, proofreading\n",
    "- Yicun Wu         - Hypothesis, data cleaning, data analysis, proofreading \n",
    "- Kasen Teoh       - Background, data cleaning, ethics and privacy, proofreading"
   ]
  }
 ],
 "metadata": {
  "kernelspec": {
   "display_name": "Python 3",
   "language": "python",
   "name": "python3"
  },
  "language_info": {
   "codemirror_mode": {
    "name": "ipython",
    "version": 3
   },
   "file_extension": ".py",
   "mimetype": "text/x-python",
   "name": "python",
   "nbconvert_exporter": "python",
   "pygments_lexer": "ipython3",
   "version": "3.7.6"
  }
 },
 "nbformat": 4,
 "nbformat_minor": 2
}
